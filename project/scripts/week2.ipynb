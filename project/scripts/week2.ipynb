{
 "cells": [
  {
   "cell_type": "code",
   "execution_count": 3,
   "id": "636d3787-16c1-401b-a592-add73bbf00f0",
   "metadata": {},
   "outputs": [],
   "source": [
    "from rdkit import Chem\n",
    "from rdkit.Chem.Draw import IPythonConsole\n",
    "IPythonConsole.ipython_useSVG=True\n",
    "\n"
   ]
  },
  {
   "cell_type": "code",
   "execution_count": 4,
   "id": "907a6ff3-ae31-4928-8980-968a6314fcfe",
   "metadata": {},
   "outputs": [
    {
     "data": {
      "image/png": "[encoded data removed]",
      "image/svg+xml": [
       "<?xml version='1.0' encoding='iso-8859-1'?>\n",
       "<svg version='1.1' baseProfile='full'\n",
       "              xmlns='http://www.w3.org/2000/svg'\n",
       "                      xmlns:rdkit='http://www.rdkit.org/xml'\n",
       "                      xmlns:xlink='http://www.w3.org/1999/xlink'\n",
       "                  xml:space='preserve'\n",
       "width='450px' height='150px' viewBox='0 0 450 150'>\n",
       "<!-- END OF HEADER -->\n",
       "<rect style='opacity:1.0;fill:#FFFFFF;stroke:none' width='450.0' height='150.0' x='0.0' y='0.0'> </rect>\n",
       "<path class='bond-0 atom-0 atom-1' d='M 176.2,114.3 L 161.3,123.1' style='fill:none;fill-rule:evenodd;stroke:#000000;stroke-width:2.0px;stroke-linecap:butt;stroke-linejoin:miter;stroke-opacity:1' />\n",
       "<path class='bond-0 atom-0 atom-1' d='M 161.3,123.1 L 146.3,132.0' style='fill:none;fill-rule:evenodd;stroke:#FF0000;stroke-width:2.0px;stroke-linecap:butt;stroke-linejoin:miter;stroke-opacity:1' />\n",
       "<path class='bond-1 atom-0 atom-2' d='M 176.2,114.3 L 175.7,71.4' style='fill:none;fill-rule:evenodd;stroke:#000000;stroke-width:2.0px;stroke-linecap:butt;stroke-linejoin:miter;stroke-opacity:1' />\n",
       "<path class='bond-1 atom-0 atom-2' d='M 182.6,110.5 L 182.1,75.0' style='fill:none;fill-rule:evenodd;stroke:#000000;stroke-width:2.0px;stroke-linecap:butt;stroke-linejoin:miter;stroke-opacity:1' />\n",
       "<path class='bond-2 atom-2 atom-3' d='M 175.7,71.4 L 160.5,62.8' style='fill:none;fill-rule:evenodd;stroke:#000000;stroke-width:2.0px;stroke-linecap:butt;stroke-linejoin:miter;stroke-opacity:1' />\n",
       "<path class='bond-2 atom-2 atom-3' d='M 160.5,62.8 L 145.2,54.3' style='fill:none;fill-rule:evenodd;stroke:#FF0000;stroke-width:2.0px;stroke-linecap:butt;stroke-linejoin:miter;stroke-opacity:1' />\n",
       "<path class='bond-3 atom-3 atom-4' d='M 138.2,42.8 L 137.9,25.2' style='fill:none;fill-rule:evenodd;stroke:#FF0000;stroke-width:2.0px;stroke-linecap:butt;stroke-linejoin:miter;stroke-opacity:1' />\n",
       "<path class='bond-3 atom-3 atom-4' d='M 137.9,25.2 L 137.7,7.5' style='fill:none;fill-rule:evenodd;stroke:#000000;stroke-width:2.0px;stroke-linecap:butt;stroke-linejoin:miter;stroke-opacity:1' />\n",
       "<path class='bond-4 atom-2 atom-5' d='M 175.7,71.4 L 212.5,49.5' style='fill:none;fill-rule:evenodd;stroke:#000000;stroke-width:2.0px;stroke-linecap:butt;stroke-linejoin:miter;stroke-opacity:1' />\n",
       "<path class='bond-5 atom-5 atom-6' d='M 212.5,49.5 L 250.0,70.4' style='fill:none;fill-rule:evenodd;stroke:#000000;stroke-width:2.0px;stroke-linecap:butt;stroke-linejoin:miter;stroke-opacity:1' />\n",
       "<path class='bond-5 atom-5 atom-6' d='M 212.6,56.9 L 243.6,74.2' style='fill:none;fill-rule:evenodd;stroke:#000000;stroke-width:2.0px;stroke-linecap:butt;stroke-linejoin:miter;stroke-opacity:1' />\n",
       "<path class='bond-6 atom-6 atom-7' d='M 250.0,70.4 L 286.8,48.5' style='fill:none;fill-rule:evenodd;stroke:#000000;stroke-width:2.0px;stroke-linecap:butt;stroke-linejoin:miter;stroke-opacity:1' />\n",
       "<path class='bond-7 atom-7 atom-8' d='M 286.8,48.5 L 302.0,57.1' style='fill:none;fill-rule:evenodd;stroke:#000000;stroke-width:2.0px;stroke-linecap:butt;stroke-linejoin:miter;stroke-opacity:1' />\n",
       "<path class='bond-7 atom-7 atom-8' d='M 302.0,57.1 L 317.2,65.6' style='fill:none;fill-rule:evenodd;stroke:#FF0000;stroke-width:2.0px;stroke-linecap:butt;stroke-linejoin:miter;stroke-opacity:1' />\n",
       "<path class='bond-7 atom-7 atom-8' d='M 286.9,56.0 L 298.9,62.7' style='fill:none;fill-rule:evenodd;stroke:#000000;stroke-width:2.0px;stroke-linecap:butt;stroke-linejoin:miter;stroke-opacity:1' />\n",
       "<path class='bond-7 atom-7 atom-8' d='M 298.9,62.7 L 314.1,71.2' style='fill:none;fill-rule:evenodd;stroke:#FF0000;stroke-width:2.0px;stroke-linecap:butt;stroke-linejoin:miter;stroke-opacity:1' />\n",
       "<path class='bond-8 atom-6 atom-9' d='M 250.0,70.4 L 250.5,113.3' style='fill:none;fill-rule:evenodd;stroke:#000000;stroke-width:2.0px;stroke-linecap:butt;stroke-linejoin:miter;stroke-opacity:1' />\n",
       "<path class='bond-9 atom-9 atom-10' d='M 250.5,113.3 L 213.6,135.2' style='fill:none;fill-rule:evenodd;stroke:#000000;stroke-width:2.0px;stroke-linecap:butt;stroke-linejoin:miter;stroke-opacity:1' />\n",
       "<path class='bond-9 atom-9 atom-10' d='M 244.0,109.7 L 213.5,127.8' style='fill:none;fill-rule:evenodd;stroke:#000000;stroke-width:2.0px;stroke-linecap:butt;stroke-linejoin:miter;stroke-opacity:1' />\n",
       "<path class='bond-10 atom-10 atom-0' d='M 213.6,135.2 L 176.2,114.3' style='fill:none;fill-rule:evenodd;stroke:#000000;stroke-width:2.0px;stroke-linecap:butt;stroke-linejoin:miter;stroke-opacity:1' />\n",
       "<path d='M 210.7,50.6 L 212.5,49.5 L 214.4,50.5' style='fill:none;stroke:#000000;stroke-width:2.0px;stroke-linecap:butt;stroke-linejoin:miter;stroke-opacity:1;' />\n",
       "<path d='M 285.0,49.6 L 286.8,48.5 L 287.6,49.0' style='fill:none;stroke:#000000;stroke-width:2.0px;stroke-linecap:butt;stroke-linejoin:miter;stroke-opacity:1;' />\n",
       "<path d='M 250.5,111.2 L 250.5,113.3 L 248.6,114.4' style='fill:none;stroke:#000000;stroke-width:2.0px;stroke-linecap:butt;stroke-linejoin:miter;stroke-opacity:1;' />\n",
       "<path d='M 215.5,134.1 L 213.6,135.2 L 211.7,134.2' style='fill:none;stroke:#000000;stroke-width:2.0px;stroke-linecap:butt;stroke-linejoin:miter;stroke-opacity:1;' />\n",
       "<path class='atom-1' d='M 121.8 130.2\n",
       "L 123.4 130.2\n",
       "L 123.4 135.3\n",
       "L 129.6 135.3\n",
       "L 129.6 130.2\n",
       "L 131.3 130.2\n",
       "L 131.3 142.3\n",
       "L 129.6 142.3\n",
       "L 129.6 136.7\n",
       "L 123.4 136.7\n",
       "L 123.4 142.3\n",
       "L 121.8 142.3\n",
       "L 121.8 130.2\n",
       "' fill='#FF0000'/>\n",
       "<path class='atom-1' d='M 133.8 136.2\n",
       "Q 133.8 133.3, 135.2 131.7\n",
       "Q 136.6 130.0, 139.3 130.0\n",
       "Q 142.0 130.0, 143.5 131.7\n",
       "Q 144.9 133.3, 144.9 136.2\n",
       "Q 144.9 139.2, 143.4 140.8\n",
       "Q 142.0 142.5, 139.3 142.5\n",
       "Q 136.7 142.5, 135.2 140.8\n",
       "Q 133.8 139.2, 133.8 136.2\n",
       "M 139.3 141.1\n",
       "Q 141.2 141.1, 142.2 139.9\n",
       "Q 143.2 138.6, 143.2 136.2\n",
       "Q 143.2 133.8, 142.2 132.6\n",
       "Q 141.2 131.4, 139.3 131.4\n",
       "Q 137.5 131.4, 136.5 132.6\n",
       "Q 135.5 133.8, 135.5 136.2\n",
       "Q 135.5 138.7, 136.5 139.9\n",
       "Q 137.5 141.1, 139.3 141.1\n",
       "' fill='#FF0000'/>\n",
       "<path class='atom-3' d='M 132.7 50.4\n",
       "Q 132.7 47.5, 134.1 45.9\n",
       "Q 135.6 44.2, 138.3 44.2\n",
       "Q 140.9 44.2, 142.4 45.9\n",
       "Q 143.8 47.5, 143.8 50.4\n",
       "Q 143.8 53.4, 142.4 55.1\n",
       "Q 140.9 56.7, 138.3 56.7\n",
       "Q 135.6 56.7, 134.1 55.1\n",
       "Q 132.7 53.4, 132.7 50.4\n",
       "M 138.3 55.3\n",
       "Q 140.1 55.3, 141.1 54.1\n",
       "Q 142.1 52.9, 142.1 50.4\n",
       "Q 142.1 48.0, 141.1 46.8\n",
       "Q 140.1 45.6, 138.3 45.6\n",
       "Q 136.4 45.6, 135.4 46.8\n",
       "Q 134.4 48.0, 134.4 50.4\n",
       "Q 134.4 52.9, 135.4 54.1\n",
       "Q 136.4 55.3, 138.3 55.3\n",
       "' fill='#FF0000'/>\n",
       "<path class='atom-8' d='M 317.1 72.3\n",
       "Q 317.1 69.4, 318.5 67.8\n",
       "Q 320.0 66.2, 322.7 66.2\n",
       "Q 325.4 66.2, 326.8 67.8\n",
       "Q 328.2 69.4, 328.2 72.3\n",
       "Q 328.2 75.3, 326.8 77.0\n",
       "Q 325.3 78.6, 322.7 78.6\n",
       "Q 320.0 78.6, 318.5 77.0\n",
       "Q 317.1 75.3, 317.1 72.3\n",
       "M 322.7 77.3\n",
       "Q 324.5 77.3, 325.5 76.0\n",
       "Q 326.5 74.8, 326.5 72.3\n",
       "Q 326.5 70.0, 325.5 68.8\n",
       "Q 324.5 67.5, 322.7 67.5\n",
       "Q 320.8 67.5, 319.8 68.7\n",
       "Q 318.8 69.9, 318.8 72.3\n",
       "Q 318.8 74.8, 319.8 76.0\n",
       "Q 320.8 77.3, 322.7 77.3\n",
       "' fill='#FF0000'/>\n",
       "</svg>\n"
      ],
      "text/html": [
       "<?xml version='1.0' encoding='iso-8859-1'?>\n",
       "<svg version='1.1' baseProfile='full'\n",
       "              xmlns='http://www.w3.org/2000/svg'\n",
       "                      xmlns:rdkit='http://www.rdkit.org/xml'\n",
       "                      xmlns:xlink='http://www.w3.org/1999/xlink'\n",
       "                  xml:space='preserve'\n",
       "width='450px' height='150px' viewBox='0 0 450 150'>\n",
       "<!-- END OF HEADER -->\n",
       "<rect style='opacity:1.0;fill:#FFFFFF;stroke:none' width='450.0' height='150.0' x='0.0' y='0.0'> </rect>\n",
       "<path class='bond-0 atom-0 atom-1' d='M 176.2,114.3 L 161.3,123.1' style='fill:none;fill-rule:evenodd;stroke:#000000;stroke-width:2.0px;stroke-linecap:butt;stroke-linejoin:miter;stroke-opacity:1' />\n",
       "<path class='bond-0 atom-0 atom-1' d='M 161.3,123.1 L 146.3,132.0' style='fill:none;fill-rule:evenodd;stroke:#FF0000;stroke-width:2.0px;stroke-linecap:butt;stroke-linejoin:miter;stroke-opacity:1' />\n",
       "<path class='bond-1 atom-0 atom-2' d='M 176.2,114.3 L 175.7,71.4' style='fill:none;fill-rule:evenodd;stroke:#000000;stroke-width:2.0px;stroke-linecap:butt;stroke-linejoin:miter;stroke-opacity:1' />\n",
       "<path class='bond-1 atom-0 atom-2' d='M 182.6,110.5 L 182.1,75.0' style='fill:none;fill-rule:evenodd;stroke:#000000;stroke-width:2.0px;stroke-linecap:butt;stroke-linejoin:miter;stroke-opacity:1' />\n",
       "<path class='bond-2 atom-2 atom-3' d='M 175.7,71.4 L 160.5,62.8' style='fill:none;fill-rule:evenodd;stroke:#000000;stroke-width:2.0px;stroke-linecap:butt;stroke-linejoin:miter;stroke-opacity:1' />\n",
       "<path class='bond-2 atom-2 atom-3' d='M 160.5,62.8 L 145.2,54.3' style='fill:none;fill-rule:evenodd;stroke:#FF0000;stroke-width:2.0px;stroke-linecap:butt;stroke-linejoin:miter;stroke-opacity:1' />\n",
       "<path class='bond-3 atom-3 atom-4' d='M 138.2,42.8 L 137.9,25.2' style='fill:none;fill-rule:evenodd;stroke:#FF0000;stroke-width:2.0px;stroke-linecap:butt;stroke-linejoin:miter;stroke-opacity:1' />\n",
       "<path class='bond-3 atom-3 atom-4' d='M 137.9,25.2 L 137.7,7.5' style='fill:none;fill-rule:evenodd;stroke:#000000;stroke-width:2.0px;stroke-linecap:butt;stroke-linejoin:miter;stroke-opacity:1' />\n",
       "<path class='bond-4 atom-2 atom-5' d='M 175.7,71.4 L 212.5,49.5' style='fill:none;fill-rule:evenodd;stroke:#000000;stroke-width:2.0px;stroke-linecap:butt;stroke-linejoin:miter;stroke-opacity:1' />\n",
       "<path class='bond-5 atom-5 atom-6' d='M 212.5,49.5 L 250.0,70.4' style='fill:none;fill-rule:evenodd;stroke:#000000;stroke-width:2.0px;stroke-linecap:butt;stroke-linejoin:miter;stroke-opacity:1' />\n",
       "<path class='bond-5 atom-5 atom-6' d='M 212.6,56.9 L 243.6,74.2' style='fill:none;fill-rule:evenodd;stroke:#000000;stroke-width:2.0px;stroke-linecap:butt;stroke-linejoin:miter;stroke-opacity:1' />\n",
       "<path class='bond-6 atom-6 atom-7' d='M 250.0,70.4 L 286.8,48.5' style='fill:none;fill-rule:evenodd;stroke:#000000;stroke-width:2.0px;stroke-linecap:butt;stroke-linejoin:miter;stroke-opacity:1' />\n",
       "<path class='bond-7 atom-7 atom-8' d='M 286.8,48.5 L 302.0,57.1' style='fill:none;fill-rule:evenodd;stroke:#000000;stroke-width:2.0px;stroke-linecap:butt;stroke-linejoin:miter;stroke-opacity:1' />\n",
       "<path class='bond-7 atom-7 atom-8' d='M 302.0,57.1 L 317.2,65.6' style='fill:none;fill-rule:evenodd;stroke:#FF0000;stroke-width:2.0px;stroke-linecap:butt;stroke-linejoin:miter;stroke-opacity:1' />\n",
       "<path class='bond-7 atom-7 atom-8' d='M 286.9,56.0 L 298.9,62.7' style='fill:none;fill-rule:evenodd;stroke:#000000;stroke-width:2.0px;stroke-linecap:butt;stroke-linejoin:miter;stroke-opacity:1' />\n",
       "<path class='bond-7 atom-7 atom-8' d='M 298.9,62.7 L 314.1,71.2' style='fill:none;fill-rule:evenodd;stroke:#FF0000;stroke-width:2.0px;stroke-linecap:butt;stroke-linejoin:miter;stroke-opacity:1' />\n",
       "<path class='bond-8 atom-6 atom-9' d='M 250.0,70.4 L 250.5,113.3' style='fill:none;fill-rule:evenodd;stroke:#000000;stroke-width:2.0px;stroke-linecap:butt;stroke-linejoin:miter;stroke-opacity:1' />\n",
       "<path class='bond-9 atom-9 atom-10' d='M 250.5,113.3 L 213.6,135.2' style='fill:none;fill-rule:evenodd;stroke:#000000;stroke-width:2.0px;stroke-linecap:butt;stroke-linejoin:miter;stroke-opacity:1' />\n",
       "<path class='bond-9 atom-9 atom-10' d='M 244.0,109.7 L 213.5,127.8' style='fill:none;fill-rule:evenodd;stroke:#000000;stroke-width:2.0px;stroke-linecap:butt;stroke-linejoin:miter;stroke-opacity:1' />\n",
       "<path class='bond-10 atom-10 atom-0' d='M 213.6,135.2 L 176.2,114.3' style='fill:none;fill-rule:evenodd;stroke:#000000;stroke-width:2.0px;stroke-linecap:butt;stroke-linejoin:miter;stroke-opacity:1' />\n",
       "<path d='M 210.7,50.6 L 212.5,49.5 L 214.4,50.5' style='fill:none;stroke:#000000;stroke-width:2.0px;stroke-linecap:butt;stroke-linejoin:miter;stroke-opacity:1;' />\n",
       "<path d='M 285.0,49.6 L 286.8,48.5 L 287.6,49.0' style='fill:none;stroke:#000000;stroke-width:2.0px;stroke-linecap:butt;stroke-linejoin:miter;stroke-opacity:1;' />\n",
       "<path d='M 250.5,111.2 L 250.5,113.3 L 248.6,114.4' style='fill:none;stroke:#000000;stroke-width:2.0px;stroke-linecap:butt;stroke-linejoin:miter;stroke-opacity:1;' />\n",
       "<path d='M 215.5,134.1 L 213.6,135.2 L 211.7,134.2' style='fill:none;stroke:#000000;stroke-width:2.0px;stroke-linecap:butt;stroke-linejoin:miter;stroke-opacity:1;' />\n",
       "<path class='atom-1' d='M 121.8 130.2\n",
       "L 123.4 130.2\n",
       "L 123.4 135.3\n",
       "L 129.6 135.3\n",
       "L 129.6 130.2\n",
       "L 131.3 130.2\n",
       "L 131.3 142.3\n",
       "L 129.6 142.3\n",
       "L 129.6 136.7\n",
       "L 123.4 136.7\n",
       "L 123.4 142.3\n",
       "L 121.8 142.3\n",
       "L 121.8 130.2\n",
       "' fill='#FF0000'/>\n",
       "<path class='atom-1' d='M 133.8 136.2\n",
       "Q 133.8 133.3, 135.2 131.7\n",
       "Q 136.6 130.0, 139.3 130.0\n",
       "Q 142.0 130.0, 143.5 131.7\n",
       "Q 144.9 133.3, 144.9 136.2\n",
       "Q 144.9 139.2, 143.4 140.8\n",
       "Q 142.0 142.5, 139.3 142.5\n",
       "Q 136.7 142.5, 135.2 140.8\n",
       "Q 133.8 139.2, 133.8 136.2\n",
       "M 139.3 141.1\n",
       "Q 141.2 141.1, 142.2 139.9\n",
       "Q 143.2 138.6, 143.2 136.2\n",
       "Q 143.2 133.8, 142.2 132.6\n",
       "Q 141.2 131.4, 139.3 131.4\n",
       "Q 137.5 131.4, 136.5 132.6\n",
       "Q 135.5 133.8, 135.5 136.2\n",
       "Q 135.5 138.7, 136.5 139.9\n",
       "Q 137.5 141.1, 139.3 141.1\n",
       "' fill='#FF0000'/>\n",
       "<path class='atom-3' d='M 132.7 50.4\n",
       "Q 132.7 47.5, 134.1 45.9\n",
       "Q 135.6 44.2, 138.3 44.2\n",
       "Q 140.9 44.2, 142.4 45.9\n",
       "Q 143.8 47.5, 143.8 50.4\n",
       "Q 143.8 53.4, 142.4 55.1\n",
       "Q 140.9 56.7, 138.3 56.7\n",
       "Q 135.6 56.7, 134.1 55.1\n",
       "Q 132.7 53.4, 132.7 50.4\n",
       "M 138.3 55.3\n",
       "Q 140.1 55.3, 141.1 54.1\n",
       "Q 142.1 52.9, 142.1 50.4\n",
       "Q 142.1 48.0, 141.1 46.8\n",
       "Q 140.1 45.6, 138.3 45.6\n",
       "Q 136.4 45.6, 135.4 46.8\n",
       "Q 134.4 48.0, 134.4 50.4\n",
       "Q 134.4 52.9, 135.4 54.1\n",
       "Q 136.4 55.3, 138.3 55.3\n",
       "' fill='#FF0000'/>\n",
       "<path class='atom-8' d='M 317.1 72.3\n",
       "Q 317.1 69.4, 318.5 67.8\n",
       "Q 320.0 66.2, 322.7 66.2\n",
       "Q 325.4 66.2, 326.8 67.8\n",
       "Q 328.2 69.4, 328.2 72.3\n",
       "Q 328.2 75.3, 326.8 77.0\n",
       "Q 325.3 78.6, 322.7 78.6\n",
       "Q 320.0 78.6, 318.5 77.0\n",
       "Q 317.1 75.3, 317.1 72.3\n",
       "M 322.7 77.3\n",
       "Q 324.5 77.3, 325.5 76.0\n",
       "Q 326.5 74.8, 326.5 72.3\n",
       "Q 326.5 70.0, 325.5 68.8\n",
       "Q 324.5 67.5, 322.7 67.5\n",
       "Q 320.8 67.5, 319.8 68.7\n",
       "Q 318.8 69.9, 318.8 72.3\n",
       "Q 318.8 74.8, 319.8 76.0\n",
       "Q 320.8 77.3, 322.7 77.3\n",
       "' fill='#FF0000'/>\n",
       "</svg>\n"
      ],
      "text/plain": [
       "<rdkit.Chem.rdchem.Mol at 0x1170482e0>"
      ]
     },
     "execution_count": 4,
     "metadata": {},
     "output_type": "execute_result"
    }
   ],
   "source": [
    "butanol = \"CCCO\"\n",
    "tertbutanol = \"C(C)(C)(C)(O)\"\n",
    "vanillin = \"c1(O)c(OC)cc(C=O)cc1\"\n",
    "\n",
    "Chem.MolFromSmiles(vanillin)\n"
   ]
  },
  {
   "cell_type": "code",
   "execution_count": null,
   "id": "1ff1d0a4-b826-4ce1-9cf8-3287509b58ce",
   "metadata": {},
   "outputs": [],
   "source": [
    "aspirin_smiles = \"CC(=O)OC1=CC=CC=C1C(=O)O\"\n",
    "aspirin = Chem.MolFromSmiles(aspirin_smiles)\n",
    "print(\"InChI: \", Chem.MolToInchi(aspirin))\n",
    "print(\"InChI Key: \", Chem.InchiToInchiKey(Chem.MolToInchi(aspirin)))\n",
    "\n",
    "aspirin_inchi = \"InChI=1S/C9H8O4/c1-6(10)13-8-5-3-2-4-7(8)9(11)12/h2-5H,1H3,(H,11,12)\"\n",
    "aspirin = Chem.MolFromInchi(aspirin_inchi)\n",
    "aspirin"
   ]
  },
  {
   "cell_type": "code",
   "execution_count": null,
   "id": "456fafa2-47d7-4960-a663-c12c79080c3b",
   "metadata": {},
   "outputs": [],
   "source": [
    "butanol = \"CCCO\"\n",
    "tertbutanol = \"C(C)(C)(C)(O)\"\n",
    "vanillin = \"c1(O)c(OC)cc(C=O)cc1\"\n",
    "\n",
    "Chem.MolFromSmiles(vanillin)\n"
   ]
  },
  {
   "cell_type": "code",
   "execution_count": null,
   "id": "c2585c95-73e5-4e3c-b22d-d3cb0c9162ea",
   "metadata": {},
   "outputs": [],
   "source": [
    "# remove the rows with NaN values\n",
    "df = df.dropna(subset=[\"Smiles\"])"
   ]
  },
  {
   "cell_type": "code",
   "execution_count": null,
   "id": "73959dc6-a6ae-43d6-8520-ec0dd4e858bd",
   "metadata": {},
   "outputs": [],
   "source": [
    "indazole_smi = \"c1cc2c(cc1)C=NNtest_mol = df[\"mol\"][0]\n",
    "test_mol2\"\n",
    "indazole = Chem.MolFromSmiles(indazole_smi)\n",
    "indazole\n"
   ]
  },
  {
   "cell_type": "code",
   "execution_count": null,
   "id": "c13682de-be9e-4636-922e-683e81e1ce13",
   "metadata": {},
   "outputs": [],
   "source": [
    "test_mol = df[\"mol\"][0]\n",
    "test_mol"
   ]
  },
  {
   "cell_type": "code",
   "execution_count": null,
   "id": "0216900f-dbab-4979-984e-99e07f549108",
   "metadata": {},
   "outputs": [],
   "source": [
    "test_mol.HasSubstructMatch(indazole)"
   ]
  },
  {
   "cell_type": "code",
   "execution_count": null,
   "id": "b337e925-2aea-4988-af71-88620258b5dd",
   "metadata": {},
   "outputs": [],
   "source": [
    "# 1) only keep those with the motif\n",
    "df_fil = df[df['has_indazole']]\n",
    "df_fil.head()"
   ]
  },
  {
   "cell_type": "code",
   "execution_count": null,
   "id": "005a31a2-534e-4f6d-b6f6-e867f852f17e",
   "metadata": {},
   "outputs": [],
   "source": [
    "# 2) only keep tyrosine kinase inhibitors\n",
    "tki = df_fil[df_fil['USAN Definition'].str.contains(\"tyrosine kinase inhibitor\")]\n",
    "tki"
   ]
  },
  {
   "cell_type": "code",
   "execution_count": null,
   "id": "fe3276b0-ae09-4e0d-8cdc-65cbaa5f2f3b",
   "metadata": {},
   "outputs": [],
   "source": [
    "# visualize the remaining TKI structures using the PandasTools.FrameToGridImage function\n",
    "PandasTools.FrameToGridImage(tki, column='mol', legendsCol=\"USAN Definition\", molsPerRow=3, subImgSize=(350, 300))"
   ]
  },
  {
   "cell_type": "code",
   "execution_count": null,
   "id": "6dd8d047-7075-4d68-9053-bb23e6e5e726",
   "metadata": {},
   "outputs": [],
   "source": [
    "#  highlight the indazole motif using the Draw.MolToImage function\n",
    "from rdkit.Chem import Draw\n",
    "img = Draw.MolToImage(mol, highlightAtoms=match_indices)\n",
    "img"
   ]
  },
  {
   "cell_type": "code",
   "execution_count": null,
   "id": "9b596c8c-fb6e-443d-be9d-d70e67fb47b0",
   "metadata": {},
   "outputs": [],
   "source": [
    "s_thalidomide = Chem.MolFromSmiles('O=C1c2ccccc2C(=O)N1[C@H]3CCC(=O)NC3=O')\n",
    "s_thalidomide\n",
    "# find the Thalidomide molecule object in the dataframe\n",
    "thalidomide= df[df[\"Name\"] == \"THALIDOMIDE\"]['mol'].values[0]\n",
    "type(thalidomide)\n",
    "# check if the Thalidomide molecule object has the S motif using the HasSubstructMatch function\n",
    "thalidomide.HasSubstructMatch(s_thalidomide)\n",
    "thalidomide.HasSubstructMatch(s_thalidomide, useChirality=True)\n",
    "from rdkit.Chem import rdFMCS\n",
    "tki_mols = tki['mol'].tolist()\n",
    "tki_mols[0]"
   ]
  },
  {
   "cell_type": "code",
   "execution_count": null,
   "id": "40af677b-1473-4318-b585-f88197219a93",
   "metadata": {},
   "outputs": [],
   "source": [
    "# extract all TKI molecules from the dataframe\n",
    "tki_all = df[df['USAN Definition'].str.contains(\"tyrosine kinase inhibitor\")]\n",
    "mols_all = tki_all['mol'].tolist()\n",
    "len(tki_all)"
   ]
  },
  {
   "cell_type": "code",
   "execution_count": null,
   "id": "322b508d-e2f8-4d93-9b65-61b6482b2d14",
   "metadata": {},
   "outputs": [],
   "source": []
  },
  {
   "cell_type": "code",
   "execution_count": null,
   "id": "7e8eb3e4-bc16-43d6-aeee-2f9f3b0c812f",
   "metadata": {},
   "outputs": [],
   "source": [
    "import pandas as pd\n",
    "\n",
    "# Specify the correct file path\n",
    "file_path = \"../exercices/week 5/chembl_drugs.csv\"\n",
    "\n",
    "# Read the CSV file using Pandas\n",
    "drugs = pd.read_csv(file_path, sep=';')\n",
    "\n",
    "print(\"Shape:\", drugs.shape)\n",
    "print(\"Columns:\", drugs.columns)"
   ]
  },
  {
   "cell_type": "code",
   "execution_count": null,
   "id": "b2a234d4-d9bd-403a-a314-cf603be4ae91",
   "metadata": {},
   "outputs": [],
   "source": [
    "approved_drugs = drugs[(drugs[\"Phase\"] == 4) & (drugs[\"Smiles\"].notnull())]"
   ]
  },
  {
   "cell_type": "code",
   "execution_count": null,
   "id": "fd2457f6-75cc-4ce3-9bd5-c9105acf99e3",
   "metadata": {},
   "outputs": [],
   "source": [
    "from rdkit.Chem import PandasTools\n",
    "\n",
    "PandasTools.RenderImagesInAllDataFrames(images = True) # needed to render images if you run the cell multiple times\n",
    "\n",
    "PandasTools.AddMoleculeColumnToFrame(approved_drugs, smilesCol = \"Smiles\", molCol = \"RdkitMOL\")"
   ]
  },
  {
   "cell_type": "code",
   "execution_count": null,
   "id": "d7a96589-262b-4b92-ac9e-f26b75542fac",
   "metadata": {},
   "outputs": [],
   "source": [
    "approved_drugs.head(2)"
   ]
  },
  {
   "cell_type": "code",
   "execution_count": null,
   "id": "851e8274-2a5d-419e-bdcd-f59793e682e7",
   "metadata": {},
   "outputs": [],
   "source": []
  },
  {
   "cell_type": "code",
   "execution_count": null,
   "id": "6cd936ce-3352-41d5-b978-b4c5eceb4d47",
   "metadata": {},
   "outputs": [],
   "source": []
  },
  {
   "cell_type": "code",
   "execution_count": null,
   "id": "756ac4b6-d5e4-4cbb-b2d1-38e033c6c1c4",
   "metadata": {},
   "outputs": [],
   "source": []
  },
  {
   "cell_type": "code",
   "execution_count": null,
   "id": "2699c91d-5e76-41b4-adc9-7ceaadedaf87",
   "metadata": {},
   "outputs": [],
   "source": []
  },
  {
   "cell_type": "code",
   "execution_count": null,
   "id": "dd209cdb-a6e2-495c-aa11-7e10bb89da3a",
   "metadata": {},
   "outputs": [],
   "source": []
  },
  {
   "cell_type": "code",
   "execution_count": null,
   "id": "1b3a355f-a490-49b8-aab2-7b13d723e934",
   "metadata": {},
   "outputs": [],
   "source": []
  },
  {
   "cell_type": "code",
   "execution_count": 6,
   "id": "583bcd80-34de-4080-83cc-27d6abac0144",
   "metadata": {},
   "outputs": [],
   "source": [
    "from rdkit import Chem\n",
    "from rdkit.Chem.Draw import IPythonConsole\n",
    "IPythonConsole.ipython_useSVG=True\n",
    "import pandas as pd"
   ]
  },
  {
   "cell_type": "code",
   "execution_count": 10,
   "id": "7364b5a0-e2cb-43f1-b60b-8e30f2218cdf",
   "metadata": {},
   "outputs": [
    {
     "ename": "NameError",
     "evalue": "name 'project' is not defined",
     "output_type": "error",
     "traceback": [
      "\u001b[0;31m---------------------------------------------------------------------------\u001b[0m",
      "\u001b[0;31mNameError\u001b[0m                                 Traceback (most recent call last)",
      "Cell \u001b[0;32mIn[10], line 1\u001b[0m\n\u001b[0;32m----> 1\u001b[0m databasef1\u001b[38;5;241m=\u001b[39m pd\u001b[38;5;241m.\u001b[39mread_csv(\u001b[43mproject\u001b[49m\u001b[38;5;241m/\u001b[39mdata\u001b[38;5;241m/\u001b[39mdatabase\u001b[38;5;241m.\u001b[39mcsv, sep\u001b[38;5;241m=\u001b[39m\u001b[38;5;124m'\u001b[39m\u001b[38;5;124m;\u001b[39m\u001b[38;5;124m'\u001b[39m)\n\u001b[1;32m      2\u001b[0m databasef1\n",
      "\u001b[0;31mNameError\u001b[0m: name 'project' is not defined"
     ]
    }
   ],
   "source": [
    "databasef1= pd.read_csv(project/data/database.csv, sep=';')\n",
    "databasef1\n"
   ]
  },
  {
   "cell_type": "code",
   "execution_count": null,
   "id": "4b314fc0-df3f-472c-9c77-0af9737e069c",
   "metadata": {},
   "outputs": [],
   "source": []
  }
 ],
 "metadata": {
  "kernelspec": {
   "display_name": "Python 3 (ipykernel)",
   "language": "python",
   "name": "python3"
  },
  "language_info": {
   "codemirror_mode": {
    "name": "ipython",
    "version": 3
   },
   "file_extension": ".py",
   "mimetype": "text/x-python",
   "name": "python",
   "nbconvert_exporter": "python",
   "pygments_lexer": "ipython3",
   "version": "3.10.13"
  }
 },
 "nbformat": 4,
 "nbformat_minor": 5
}
