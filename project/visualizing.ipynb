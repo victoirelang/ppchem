{
 "cells": [
  {
   "cell_type": "code",
   "execution_count": null,
   "id": "e3eedc8c-c34b-49d6-8bc3-e4d36870a326",
   "metadata": {},
   "outputs": [],
   "source": [
    "#check_smiles_validity(database)  "
   ]
  },
  {
   "cell_type": "code",
   "execution_count": null,
   "id": "eef46dc8-21e5-44ef-96d7-44fd2a66401d",
   "metadata": {},
   "outputs": [],
   "source": [
    "visualize_molecules_for_cream(database,\"La Rosée\")"
   ]
  },
  {
   "cell_type": "code",
   "execution_count": null,
   "id": "8bc244f4-5f40-460a-8d33-a483342af032",
   "metadata": {},
   "outputs": [],
   "source": [
    "validity_results = {\n",
    "    0: True, 1: True, 2: True, 3: False, 4: False, 5: True, 6: True, 7: True, 8: True, 9: True, 10: True,\n",
    "    11: True, 12: True, 13: False, 14: False, 15: False, 16: True, 17: True, 18: False, 19: True, 20: True,\n",
    "    21: True, 22: True, 23: True, 24: True, 25: True, 26: False, 27: False, 28: False, 29: True, 30: False,\n",
    "    31: True, 32: True, 33: True, 34: False, 35: False, 36: False, 37: True, 38: True, 39: True, 40: True,\n",
    "    41: True, 42: True, 43: True, 44: True, 45: True, 46: False, 47: True, 48: True, 49: True, 50: False,\n",
    "    51: True, 52: False, 53: True, 54: True, 55: False, 56: False, 57: True, 58: False, 59: True, 60: True,\n",
    "    61: True, 62: True, 63: True, 64: True, 65: True, 66: True, 67: False, 68: False, 69: True, 70: True,\n",
    "    71: True, 72: False, 73: False, 74: False, 75: True, 76: False, 77: False, 78: False, 79: False, 80: True,\n",
    "    81: False, 82: False, 83: False, 84: False, 85: False, 86: True, 87: False, 88: False, 89: False, 90: False,\n",
    "    91: False, 92: False, 93: True, 94: True, 95: True, 96: True, 97: False, 98: True, 99: False, 100: True,\n",
    "    101: False, 102: True, 103: False, 104: True, 105: False, 106: False, 107: True, 108: True, 109: False,\n",
    "    110: True, 111: False, 112: True, 113: True, 114: True, 115: True, 116: True, 117: True, 118: False,\n",
    "    119: True, 120: True, 121: False, 122: False, 123: True, 124: True, 125: False, 126: True, 127: False,\n",
    "    128: True, 129: True, 130: True, 131: False, 132: True, 133: False, 134: True, 135: True, 136: True,\n",
    "    137: False, 138: False, 139: False, 140: True, 141: True, 142: True, 143: False, 144: True, 145: False,\n",
    "    146: True, 147: False, 148: False, 149: True, 150: False, 151: True, 152: False, 153: False, 154: True,\n",
    "    155: True, 156: True, 157: False, 158: True, 159: False, 160: True, 161: True, 162: True, 163: True,\n",
    "    164: True, 165: True, 166: True, 167: False, 168: True, 169: True, 170: False, 171: True, 172: True,\n",
    "    173: False, 174: True, 175: False, 176: True, 177: True, 178: False, 179: False, 180: False, 181: True,\n",
    "    182: False, 183: True, 184: False, 185: True, 186: True, 187: True, 188: False, 189: True, 190: False,\n",
    "    191: True, 192: True, 193: True, 194: False, 195: True, 196: True, 197: True, 198: True, 199: True,\n",
    "    200: True, 201: True, 202: True, 203: True, 204: True, 205: True, 206: True, 207: True, 208: True,\n",
    "    209: True, 210: True, 211: True, 212: True, 213: True, 214: True, 215: False, 216: False, 217: False,\n",
    "    218: False, 219: False, 220: True, 221: True, 222: False, 223: True, 224: True, 225: True, 226: False,\n",
    "    227: False, 228: True, 229: True, 230: True, 231: True, 232: False, 233: True, 234: True, 235: True,\n",
    "    236: True, 237: True, 238: True, 239: True, 240: True, 241: False, 242: False, 243: True, 244: False,\n",
    "    245: True, 246: False, 247: True, 248: False, 249: True, 250: True, 251: True, 252: True, 253: True,\n",
    "    254: False, 255: True, 256: True, 257: False, 258: True, 259: False, 260: True, 261: True, 262: False,\n",
    "    263: True, 264: True, 265: True, 266: False, 267: True, 268: True, 269: True, 270: True, 271: True,\n",
    "    272: True, 273: True, 274: True, 275: False, 276: False, 277: False, 278: False, 279: False, 280: True,\n",
    "    281: False, 282: False, 283: True, 284: True, 285: True, 286: False, 287: False, 288: True, 289: False,\n",
    "    290: False, 291: False, 292: False, 293: True, 294: False, 295: False, 296: True, 297: False, 298: True,\n",
    "    299: True, 300: True, 301: False, 302: False, 303: False, 304: False, 305: False, 306: False, 307: True,\n",
    "    308: True, 309: True, 310: True, 311: True, 312: True, 313: True, 314: True, 315: True, 316: True,\n",
    "    317: True, 318: True, 319: True, 320: True, 321: False, 322: True, 323: True, 324: True, 325: True,\n",
    "    326: True, 327: False, 328: False, 329: True, 330: False, 331: True, 332: True, 333: True, 334: True,\n",
    "    335: True, 336: True, 337: True, 338: True, 339: True, 340: True, 341: True, 342: False, 343: False,\n",
    "    344: True, 345: False, 346: True, 347: True, 348: False, 349: False, 350: False, 351: False, 352: True,\n",
    "    353: False, 354: True, 355: False, 356: False, 357: False, 358: False, 359: True, 360: False, 361: True,\n",
    "    362: False, 363: True, 364: True, 365: False, 366: True, 367: True, 368: True, 369: True, 370: True,\n",
    "    371: False, 372: True, 373: True, 374: True, 375: False, 376: True, 377: False, 378: False, 379: True,\n",
    "    380: True\n",
    "}\n",
    "\n",
    "# Compter le nombre de False et afficher leurs indices\n",
    "num_false = sum(1 for v in validity_results.values() if not v)\n",
    "false_indices = [index for index, valid in validity_results.items() if not valid]\n",
    "\n",
    "print(f\"Nombre total de chaînes SMILES invalides: {num_false}\")\n",
    "print(\"Indices des chaînes SMILES invalides:\")\n",
    "print(false_indices)\n"
   ]
  },
  {
   "cell_type": "code",
   "execution_count": 2,
   "id": "96fecff2-b29b-4057-a48f-564e87782981",
   "metadata": {},
   "outputs": [
    {
     "name": "stdout",
     "output_type": "stream",
     "text": [
      "SMILES valide: C1=CC=C(C=C1)CO\n"
     ]
    }
   ],
   "source": [
    "from rdkit import Chem\n",
    "\n",
    "smiles = \"C1=CC=C(C=C1)CO\"\n",
    "mol = Chem.MolFromSmiles(smiles)\n",
    "\n",
    "if mol is not None:\n",
    "    print(\"SMILES valide:\", smiles)\n",
    "else:\n",
    "    print(\"SMILES invalide:\", smiles)\n"
   ]
  },
  {
   "cell_type": "code",
   "execution_count": null,
   "id": "6136f166-6d24-401f-89f7-67302e9828a1",
   "metadata": {},
   "outputs": [],
   "source": []
  }
 ],
 "metadata": {
  "kernelspec": {
   "display_name": "Python 3 (ipykernel)",
   "language": "python",
   "name": "python3"
  },
  "language_info": {
   "codemirror_mode": {
    "name": "ipython",
    "version": 3
   },
   "file_extension": ".py",
   "mimetype": "text/x-python",
   "name": "python",
   "nbconvert_exporter": "python",
   "pygments_lexer": "ipython3",
   "version": "3.10.13"
  }
 },
 "nbformat": 4,
 "nbformat_minor": 5
}
