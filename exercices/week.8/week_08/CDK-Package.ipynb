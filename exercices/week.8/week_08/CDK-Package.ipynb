{
 "cells": [
  {
   "cell_type": "code",
   "execution_count": null,
   "id": "2acf169e-5e4d-45cf-89b1-05414c1b4d2c",
   "metadata": {},
   "outputs": [],
   "source": [
    "import urllib.parse\n",
    "\n",
    "params =    {\n",
    "                'smiles': 'CN1C=NC2=C1C(=O)N(C(=O)N2C)C',\n",
    "            }\n",
    "\n",
    "print(urllib.parse.urlencode(params))\n"
   ]
  },
  {
   "cell_type": "code",
   "execution_count": null,
   "id": "11f3e912-356b-410e-b781-937a62be3489",
   "metadata": {},
   "outputs": [],
   "source": [
    "import requests\n",
    "from IPython.display import SVG, display\n",
    "\n",
    "cdk_depict_link = 'https://www.simolecule.com/cdkdepict/depict/bow'\n",
    "\n",
    "\n",
    "def smiles_depict_url(smiles: str, format: str = 'svg') -> str:\n",
    "    \"\"\"\n",
    "    Generate the URL for the depiction of a SMILES string.\n",
    "    Args:\n",
    "        smiles: smiles string to depict\n",
    "        format: 'svg', 'pdf', 'png', etc.\n",
    "        use_internal_service: whether to use the service deployed on ZC2 (True)\n",
    "            or the one available on the simolecule website (False).\n",
    "    Returns:\n",
    "        URL string\n",
    "    \"\"\"\n",
    "    rendering_service = cdk_depict_link\n",
    "    params = {\n",
    "        'smi': smiles,\n",
    "        'zoom': '1.0',\n",
    "        'abbr': 'on',\n",
    "        'hdisp': 'bridgehead',\n",
    "        'showtitle': 'false',\n",
    "        'annotate': 'none'\n",
    "    }\n",
    "    params_str = urllib.parse.urlencode(params)\n",
    "    return f'{rendering_service}/{format}?{params_str}'\n",
    "\n",
    "def display_svg(url: str) -> None:\n",
    "    response = requests.get(url)\n",
    "    if response.status_code == 200:\n",
    "        svg_data = response.text\n",
    "        display(SVG(svg_data))\n",
    "    else:\n",
    "        print(\"Failed to retrieve SVG: Status code\", response.status_code)\n",
    "\n",
    "smiles = 'CCOC(=O)C1=CC=CC=C1C(=O)OCC' \n",
    "url = smiles_depict_url(smiles)\n",
    "display_svg(url)\n",
    "\n"
   ]
  }
 ],
 "metadata": {
  "kernelspec": {
   "display_name": "Python 3 (ipykernel)",
   "language": "python",
   "name": "python3"
  },
  "language_info": {
   "codemirror_mode": {
    "name": "ipython",
    "version": 3
   },
   "file_extension": ".py",
   "mimetype": "text/x-python",
   "name": "python",
   "nbconvert_exporter": "python",
   "pygments_lexer": "ipython3",
   "version": "3.10.13"
  }
 },
 "nbformat": 4,
 "nbformat_minor": 5
}
