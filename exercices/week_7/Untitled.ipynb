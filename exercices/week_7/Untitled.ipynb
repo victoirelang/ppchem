{
 "cells": [
  {
   "cell_type": "code",
   "execution_count": 1,
   "id": "9b148524-7b0f-4bae-b118-c706f2bd1110",
   "metadata": {},
   "outputs": [
    {
     "name": "stdout",
     "output_type": "stream",
     "text": [
      "/Users/victoire/miniconda3/envs/drfp_env\n"
     ]
    }
   ],
   "source": [
    "import sys \n",
    "print(sys.prefix)"
   ]
  },
  {
   "cell_type": "code",
   "execution_count": 4,
   "id": "08bfd88e-53e9-4f6e-a72c-a77f38870f23",
   "metadata": {},
   "outputs": [
    {
     "name": "stdout",
     "output_type": "stream",
     "text": [
      "DRFP installed in: /Users/victoire/miniconda3/envs/drfp_env/lib/python3.10/site-packages/drfp/__init__.py\n"
     ]
    }
   ],
   "source": [
    "import drfp\n",
    "print(\"DRFP installed in:\", drfp.__file__)"
   ]
  },
  {
   "cell_type": "code",
   "execution_count": null,
   "id": "bbf91039-3b43-49eb-b147-f581a8319468",
   "metadata": {},
   "outputs": [],
   "source": []
  }
 ],
 "metadata": {
  "kernelspec": {
   "display_name": "Python 3 (ipykernel)",
   "language": "python",
   "name": "python3"
  },
  "language_info": {
   "codemirror_mode": {
    "name": "ipython",
    "version": 3
   },
   "file_extension": ".py",
   "mimetype": "text/x-python",
   "name": "python",
   "nbconvert_exporter": "python",
   "pygments_lexer": "ipython3",
   "version": "3.10.14"
  }
 },
 "nbformat": 4,
 "nbformat_minor": 5
}
