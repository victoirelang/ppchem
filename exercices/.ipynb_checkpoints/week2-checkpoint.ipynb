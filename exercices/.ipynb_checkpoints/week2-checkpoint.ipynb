{
 "cells": [
  {
   "cell_type": "code",
   "execution_count": 1,
   "id": "79321803-fc6a-4462-b893-cf9f47e17384",
   "metadata": {},
   "outputs": [
    {
     "name": "stdout",
     "output_type": "stream",
     "text": [
      "Hello world\n"
     ]
    }
   ],
   "source": [
    "print('Hello world')\n"
   ]
  },
  {
   "cell_type": "code",
   "execution_count": 6,
   "id": "b0ec0303-49cf-4c64-a7e9-939b3a25b71d",
   "metadata": {},
   "outputs": [
    {
     "data": {
      "text/plain": [
       "True"
      ]
     },
     "execution_count": 6,
     "metadata": {},
     "output_type": "execute_result"
    }
   ],
   "source": [
    "atom = 'Oxygen'\n",
    "atomic_number = 8\n",
    "\n",
    "output = atom + str(atomic_number)\n",
    "\n",
    "assert output == 'Oxygen8'"
   ]
  },
  {
   "cell_type": "code",
   "execution_count": 10,
   "id": "a8f43ba3-483f-44f9-a1d6-cd15d201041e",
   "metadata": {},
   "outputs": [
    {
     "name": "stdout",
     "output_type": "stream",
     "text": [
      "5\n"
     ]
    }
   ],
   "source": [
    "poisson=2\n",
    "corde=3.4\n",
    "y=int(poisson)+int(corde)\n",
    "print(y)"
   ]
  },
  {
   "cell_type": "code",
   "execution_count": 11,
   "id": "295df6f3-1bd2-4c39-b3be-436f159a72a1",
   "metadata": {},
   "outputs": [
    {
     "name": "stdout",
     "output_type": "stream",
     "text": [
      "23.4\n"
     ]
    }
   ],
   "source": [
    "poisson=2\n",
    "corde=3.4\n",
    "y=str(poisson)+str(corde)\n",
    "print(y)"
   ]
  },
  {
   "cell_type": "code",
   "execution_count": 20,
   "id": "23922e9a-b933-4387-b9fb-92a008fef931",
   "metadata": {},
   "outputs": [
    {
     "data": {
      "text/plain": [
       "False"
      ]
     },
     "execution_count": 20,
     "metadata": {},
     "output_type": "execute_result"
    }
   ],
   "source": [
    "a=False\n",
    "b=True\n",
    "c=False\n",
    "a and b"
   ]
  },
  {
   "cell_type": "code",
   "execution_count": 19,
   "id": "10817236-1e7f-4712-9929-2ad5cfc8646c",
   "metadata": {},
   "outputs": [
    {
     "data": {
      "text/plain": [
       "True"
      ]
     },
     "execution_count": 19,
     "metadata": {},
     "output_type": "execute_result"
    }
   ],
   "source": [
    "a or b"
   ]
  },
  {
   "cell_type": "code",
   "execution_count": 21,
   "id": "2d3c6ccd-99aa-421e-9180-24cffb84f1d6",
   "metadata": {},
   "outputs": [
    {
     "data": {
      "text/plain": [
       "True"
      ]
     },
     "execution_count": 21,
     "metadata": {},
     "output_type": "execute_result"
    }
   ],
   "source": [
    "not a"
   ]
  },
  {
   "cell_type": "code",
   "execution_count": 29,
   "id": "894835e9-9906-498b-99bd-77f4d94b5d44",
   "metadata": {},
   "outputs": [
    {
     "data": {
      "text/plain": [
       "True"
      ]
     },
     "execution_count": 29,
     "metadata": {},
     "output_type": "execute_result"
    }
   ],
   "source": [
    "not (b and c)"
   ]
  },
  {
   "cell_type": "code",
   "execution_count": 30,
   "id": "dfd89a0d-1477-427c-9111-11d997e44498",
   "metadata": {},
   "outputs": [
    {
     "data": {
      "text/plain": [
       "False"
      ]
     },
     "execution_count": 30,
     "metadata": {},
     "output_type": "execute_result"
    }
   ],
   "source": [
    "(a and b) or c"
   ]
  },
  {
   "cell_type": "code",
   "execution_count": 31,
   "id": "6d253648-dc5b-4093-a7ae-24ef735c35d2",
   "metadata": {},
   "outputs": [
    {
     "name": "stdout",
     "output_type": "stream",
     "text": [
      "Answer 3\n"
     ]
    }
   ],
   "source": [
    "a = True\n",
    "b = False\n",
    "c = True\n",
    "\n",
    "if a:\n",
    "    if not c:\n",
    "        print('Answer 1')\n",
    "    elif c and b:\n",
    "        print('Answer 2')\n",
    "    print('Answer 3')\n",
    "else:\n",
    "    print('Answer 4')"
   ]
  },
  {
   "cell_type": "code",
   "execution_count": 33,
   "id": "b4d6009e-3f52-4328-81dd-7485641f120b",
   "metadata": {},
   "outputs": [
    {
     "name": "stdout",
     "output_type": "stream",
     "text": [
      "True\n",
      "True\n",
      "True\n",
      "False\n",
      "False\n",
      "True\n"
     ]
    }
   ],
   "source": [
    "a = 'Hydrogen'\n",
    "b = 'oxygen'\n",
    "c = 1\n",
    "d = 0\n",
    "e = ''\n",
    "f = -3\n",
    "d = None\n",
    "print(bool(a))\n",
    "print(bool(b))\n",
    "print(bool(c))\n",
    "print(bool(d))\n",
    "print(bool(e))\n",
    "print(bool(f))"
   ]
  },
  {
   "cell_type": "code",
   "execution_count": 35,
   "id": "b887ff84-ea4e-467e-b596-3326877b2085",
   "metadata": {},
   "outputs": [],
   "source": [
    "\n",
    "# You can declare a list in python using the following syntax\n",
    "elements = [\"Hydrogen\", \"Helium\", \"Lithium\", \"Beryllium\", \"Boron\", \"Carbon\", \"Nitrogen\", \"Oxygen\", \"Fluorine\"]\n",
    "\n",
    "\n",
    "\n",
    "# You can put anything you want in a list, including other lists\n",
    "\n",
    "elements = [[\"Hydrogen\", \"Helium\", \"Lithium\"], [\"Beryllium\", \"Boron\", \"Carbon\"], [\"Nitrogen\", \"Oxygen\", \"Fluorine\"]]\n",
    "\n",
    "# You can also declare whacky lists like this\n",
    "\n",
    "whacky_list = [1, 'dog', 3.14, [4, 5, 6]]\n",
    "\n",
    "# Note that by creating a list of lists as above, we have effectively declared a matrix. \n",
    "# In CS terms, a matrix is a 2D array.\n"
   ]
  },
  {
   "cell_type": "code",
   "execution_count": 37,
   "id": "d30cb134-8db6-4471-ba17-c6de7e46e6cc",
   "metadata": {},
   "outputs": [
    {
     "name": "stdout",
     "output_type": "stream",
     "text": [
      "Hydrogen\n",
      "['Hydrogen', 'Helium', 'Lithium', 'Beryllium', 'Boron', 'Lead']\n"
     ]
    }
   ],
   "source": [
    "element_list = [\"Hydrogen\", \"Helium\", \"Lithium\", \"Beryllium\", \"Boron\"]\n",
    "print(element_list[0])\n",
    "element_list = [\"Hydrogen\", \"Helium\", \"Lithium\", \"Beryllium\", \"Boron\"]\n",
    "element_list.append(\"Lead\")\n",
    "print(element_list)"
   ]
  },
  {
   "cell_type": "code",
   "execution_count": 38,
   "id": "3f07cdae-ce24-4d48-987d-efbb2b215e8f",
   "metadata": {},
   "outputs": [
    {
     "name": "stdout",
     "output_type": "stream",
     "text": [
      "[1, 5, 2, 3, 4]\n"
     ]
    }
   ],
   "source": [
    "my_list = [1, 2, 3, 4]\n",
    "\n",
    "# Add the missing element at index 1\n",
    "missing_element = 5\n",
    "index_to_insert = 1\n",
    "my_list.insert(index_to_insert, missing_element)\n",
    "\n",
    "print(my_list)  # Output: [1, 5, 2, 3, 4]"
   ]
  },
  {
   "cell_type": "code",
   "execution_count": 39,
   "id": "30601f2f-ec74-41db-a5bb-ea53215c51a7",
   "metadata": {},
   "outputs": [
    {
     "name": "stdout",
     "output_type": "stream",
     "text": [
      "['Hydrogen', 'Helium', 'Lithium', 'Beryllium', 'Boron']\n"
     ]
    }
   ],
   "source": [
    "element_list = [\"Hydrogen\", \"Lithium\", \"Beryllium\", \"Boron\"]\n",
    "element_list.insert(1, 'Helium')\n",
    "print(element_list)\n"
   ]
  },
  {
   "cell_type": "code",
   "execution_count": 40,
   "id": "34970158-1052-438e-91c5-6dc41dcb5be9",
   "metadata": {},
   "outputs": [
    {
     "name": "stdout",
     "output_type": "stream",
     "text": [
      "['Helium', 'Lithium', 'Beryllium', 'Boron']\n"
     ]
    }
   ],
   "source": [
    "element_list.remove(\"Hydrogen\")\n",
    "print(element_list)"
   ]
  },
  {
   "cell_type": "code",
   "execution_count": 41,
   "id": "a2d01dda-9942-4ba6-8485-e6d659b1239a",
   "metadata": {},
   "outputs": [
    {
     "name": "stdout",
     "output_type": "stream",
     "text": [
      "Boron\n",
      "Helium\n",
      "['Hydrogen', 'Lithium', 'Beryllium']\n"
     ]
    }
   ],
   "source": [
    "element_list = [\"Hydrogen\", \"Helium\", \"Lithium\", \"Beryllium\", \"Boron\"]\n",
    "\n",
    "a = element_list.pop(-1)\n",
    "print(a)\n",
    "\n",
    "b = element_list.pop(1)\n",
    "print(b)\n",
    "\n",
    "print(element_list)"
   ]
  },
  {
   "cell_type": "code",
   "execution_count": 42,
   "id": "5c87bd99-c096-468e-aa12-fa3abab61aa6",
   "metadata": {},
   "outputs": [
    {
     "name": "stdout",
     "output_type": "stream",
     "text": [
      "[]\n"
     ]
    }
   ],
   "source": [
    "element_list.clear()\n",
    "print(element_list)"
   ]
  },
  {
   "cell_type": "code",
   "execution_count": 43,
   "id": "7f66e880-f3c3-47cf-bc60-3a5071d6c115",
   "metadata": {},
   "outputs": [
    {
     "name": "stdout",
     "output_type": "stream",
     "text": [
      "['Hydrogen', 'Helium', 'Lithium', 'Beryllium', 'Boron', 'Nitrogen', 'Oxygen', 'Fluorine']\n",
      "8\n"
     ]
    }
   ],
   "source": [
    "element_list_1 = [\"Hydrogen\", \"Helium\", \"Lithium\", \"Beryllium\", \"Boron\"]\n",
    "element_list_2= [\"Nitrogen\", \"Oxygen\", \"Fluorine\"]\n",
    "element_list_3 = element_list_1 + element_list_2\n",
    "print(element_list_3)\n",
    "\n",
    "print(len(element_list_3))"
   ]
  },
  {
   "cell_type": "code",
   "execution_count": 44,
   "id": "c9960689-7c3b-4c08-885d-add55accab05",
   "metadata": {},
   "outputs": [
    {
     "data": {
      "text/plain": [
       "['Hydrogen', 'Helium', 'Lithium']"
      ]
     },
     "execution_count": 44,
     "metadata": {},
     "output_type": "execute_result"
    }
   ],
   "source": [
    "element_list = [\"Hydrogen\", \"Helium\", \"Lithium\", \"Beryllium\", \"Boron\", \"Carbon\", \"Nitrogen\", \"Oxygen\", \"Fluorine\"]\n",
    "start = 0\n",
    "end = 3\n",
    "\n",
    "element_list[start:end]"
   ]
  },
  {
   "cell_type": "code",
   "execution_count": 48,
   "id": "60e9a3bd-0bcf-4c23-84bf-496fcba02f75",
   "metadata": {},
   "outputs": [
    {
     "name": "stdout",
     "output_type": "stream",
     "text": [
      "Boron Beryllium Lithium\n"
     ]
    }
   ],
   "source": [
    "# last two elements\n",
    "print(element_list_1[-1],element_list_1[-2],element_list_1[-3])"
   ]
  },
  {
   "cell_type": "code",
   "execution_count": 49,
   "id": "0735a514-fe93-44e7-a19a-9f4731f9263f",
   "metadata": {},
   "outputs": [
    {
     "data": {
      "text/plain": [
       "['Hydrogen', 'Helium', 'Lithium']"
      ]
     },
     "execution_count": 49,
     "metadata": {},
     "output_type": "execute_result"
    }
   ],
   "source": [
    "element_list = [\"Hydrogen\", \"Helium\", \"Lithium\", \"Beryllium\", \"Boron\", \"Carbon\", \"Nitrogen\", \"Oxygen\", \"Fluorine\"]\n",
    "start = 0\n",
    "end = 3\n",
    "\n",
    "element_list[start:end]"
   ]
  },
  {
   "cell_type": "code",
   "execution_count": 50,
   "id": "c9d2cee2-9293-47ba-9588-74f5b1a166df",
   "metadata": {},
   "outputs": [
    {
     "name": "stdout",
     "output_type": "stream",
     "text": [
      "['Hydrogen', 'Lithium', 'Boron']\n"
     ]
    }
   ],
   "source": [
    "# every second element from indexes 0 to 5\n",
    "print(element_list[0:5:2])"
   ]
  },
  {
   "cell_type": "code",
   "execution_count": 56,
   "id": "0e7f7a76-dad6-4222-be61-cb9327f1a3f5",
   "metadata": {},
   "outputs": [
    {
     "name": "stdout",
     "output_type": "stream",
     "text": [
      "['Hydrogen', 'Lithium', 'Boron', 'Nitrogen', 'Fluorine']\n",
      "['Hydrogen', 'Lithium', 'Boron', 'Nitrogen', 'Fluorine']\n"
     ]
    }
   ],
   "source": [
    "# every second element of the whole list, two different formats\n",
    "print(element_list[0::2])\n",
    "\n",
    "second_elements = [element_list[i] for i in range(0, len(element_list), 2)]\n",
    "print(second_elements)"
   ]
  },
  {
   "cell_type": "code",
   "execution_count": 65,
   "id": "8eb651bf-5524-44f7-b2f5-edb762a6244a",
   "metadata": {},
   "outputs": [],
   "source": [
    "test_even = [\"Hydrogen\", \"Helium\", \"Lithium\", \"Beryllium\", \"Boron\", \"Carbon\", \"Nitrogen\", \"Oxygen\", \"Fluorine\", \"Sodium\"]\n",
    "test_odd = [\"Hydrogen\", \"Helium\", \"Lithium\", \"Beryllium\", \"Boron\", \"Carbon\", \"Nitrogen\", \"Oxygen\", \"Fluorine\"]\n",
    "\n",
    "\n",
    "middle_index = len(test_even)//2\n",
    "first_half = test_even[:middle_index]\n",
    "second_half = test_even[middle_index:]\n",
    "\n",
    "assert (middle_index, first_half, second_half) == (5, [\"Hydrogen\", \"Helium\", \"Lithium\", \"Beryllium\", \"Boron\"], [\"Carbon\", \"Nitrogen\", \"Oxygen\", \"Fluorine\", \"Sodium\"])"
   ]
  },
  {
   "cell_type": "code",
   "execution_count": 77,
   "id": "edc73f4e-43e2-44e2-afc3-4c55d8f1df4a",
   "metadata": {},
   "outputs": [],
   "source": [
    "test_even = [\"Hydrogen\", \"Helium\", \"Lithium\", \"Beryllium\", \"Boron\", \"Carbon\", \"Nitrogen\", \"Oxygen\", \"Fluorine\", \"Sodium\"]\n",
    "test_odd = [\"Hydrogen\", \"Helium\", \"Lithium\", \"Beryllium\", \"Boron\", \"Carbon\", \"Nitrogen\", \"Oxygen\", \"Fluorine\"]\n",
    "\n",
    "\n",
    "middle_index1 = (len(test_odd)+1)//2\n",
    "first_half = test_odd[:middle_index1]\n",
    "second_half = test_odd[middle_index1:]\n",
    "\n",
    "assert (middle_index1, first_half, second_half) == (5, [\"Hydrogen\", \"Helium\", \"Lithium\", \"Beryllium\", \"Boron\"], [\"Carbon\", \"Nitrogen\", \"Oxygen\", \"Fluorine\"])\n"
   ]
  },
  {
   "cell_type": "code",
   "execution_count": 80,
   "id": "77651d3b-c951-4de1-8075-b41eb3b2136c",
   "metadata": {},
   "outputs": [
    {
     "name": "stdout",
     "output_type": "stream",
     "text": [
      "Base\n"
     ]
    }
   ],
   "source": [
    "# We declare a dictionary in python using the following syntax\n",
    "\n",
    "acid_bases = {'NaBH4' : 'Base', 'H2SO4' : 'Acid', 'NaOH' : 'Base'}\n",
    "# You can access the value of a key in a dictionary using the following syntax\n",
    "\n",
    "print(acid_bases['NaBH4'])\n",
    "# You can add a new key value pair to a dictionary using the following syntax\n",
    "\n",
    "acid_bases['HCl'] = 'Acid'\n",
    "# Declaring a dictionary\n",
    "my_dict = {'apple': 5, 'banana': 3, 'orange': 7}\n",
    "\n",
    "# Assigning a new value to an existing key\n",
    "my_dict['apple'] = 10\n",
    "#print(my_dict['grape'])\n",
    "# You can delete a key value pair from a dictionary using the del keyword\n",
    "del acid_bases['HCl']\n"
   ]
  },
  {
   "cell_type": "code",
   "execution_count": 84,
   "id": "146a4480-bf88-4e03-bebe-32dfa0bcc7b3",
   "metadata": {},
   "outputs": [
    {
     "name": "stdout",
     "output_type": "stream",
     "text": [
      "Current pH: 2\n",
      "Solution is too acidic. Adding a base to increase pH.\n",
      "Current pH: 3\n",
      "Solution is too acidic. Adding a base to increase pH.\n",
      "Current pH: 4\n",
      "Solution is too acidic. Adding a base to increase pH.\n",
      "Current pH: 5\n",
      "Solution is too acidic. Adding a base to increase pH.\n",
      "Current pH: 6\n",
      "Solution is too acidic. Adding a base to increase pH.\n",
      "Solution is now neutral.\n",
      "Element 1: Hydrogen\n",
      "Element 2: Helium\n",
      "Element 3: Lithium\n",
      "Element 4: Beryllium\n",
      "Element 5: Boron\n",
      "Element 6: Carbon\n",
      "Element 7: Nitrogen\n",
      "Element 8: Oxygen\n",
      "Element 9: Fluorine\n",
      "Iron\n",
      "Zinc\n"
     ]
    }
   ],
   "source": [
    "pH = 2  # Assume we start the pH at 2 (which is acidic)\n",
    "\n",
    "while pH != 7:  # while the pH is not neutral\n",
    "    print(f\"Current pH: {pH}\")\n",
    "    if pH < 7:  # if the environment is acidic\n",
    "        print(\"Solution is too acidic. Adding a base to increase pH.\")\n",
    "        pH += 1  # add a base to increase the pH\n",
    "    elif pH > 7:  # if the environment is basic\n",
    "        print(\"Solution is too basic. Adding an acid to decrease pH.\")\n",
    "        pH -= 1  # add an acid to reduce the pH\n",
    "        \n",
    "print(\"Solution is now neutral.\")\n",
    "counter = 0\n",
    "max_count = 9\n",
    "\n",
    "# Here is the list of the first nine chemical elements:\n",
    "elements = [\"Hydrogen\", \"Helium\", \"Lithium\", \"Beryllium\", \"Boron\", \"Carbon\", \"Nitrogen\", \"Oxygen\", \"Fluorine\"]\n",
    "\n",
    "while counter < max_count:\n",
    "    # Here we print the element at the current index\n",
    "    # Note the adjustment for 0-based indexing\n",
    "    print(f\"Element {counter + 1}: {elements[counter]}\")\n",
    "    counter += 1\n",
    "\n",
    "elements = [\"Iron\", \"Copper\", \"Zinc\", \"Gold\", \"Silver\", \"Platinum\"]\n",
    "\n",
    "for element in elements:\n",
    "    if element == \"Copper\":\n",
    "        continue\n",
    "    if element == \"Gold\":\n",
    "        break\n",
    "    print(element)"
   ]
  },
  {
   "cell_type": "code",
   "execution_count": 86,
   "id": "1fd79147-2ebe-42d1-8d96-11f8a1073725",
   "metadata": {},
   "outputs": [
    {
     "name": "stdout",
     "output_type": "stream",
     "text": [
      "The substance needs to be diluted 1 times to reach the desired concentration.\n"
     ]
    }
   ],
   "source": [
    "initial_concentration = 50\n",
    "final_concentration = 3\n",
    "\n",
    " # Counter for the number of dilutions\n",
    "dilution_count = 0\n",
    "\n",
    "# Calculate the dilution factor\n",
    "dilution_factor = initial_concentration / final_concentration\n",
    "\n",
    "# Keep diluting until the concentration falls below or equals the final concentration\n",
    "while initial_concentration > final_concentration:\n",
    "    initial_concentration /= dilution_factor\n",
    "    dilution_count += 1\n",
    "\n",
    "print(\"The substance needs to be diluted {} times to reach the desired concentration.\".format(dilution_count))\n"
   ]
  },
  {
   "cell_type": "code",
   "execution_count": 87,
   "id": "56e13db3-619b-448f-9b30-70b2f397bea6",
   "metadata": {},
   "outputs": [
    {
     "name": "stdout",
     "output_type": "stream",
     "text": [
      "Hydrogen\n",
      "Helium\n",
      "Lithium\n",
      "Beryllium\n",
      "Boron\n",
      "Carbon\n",
      "Nitrogen\n",
      "Oxygen\n",
      "Fluorine\n"
     ]
    }
   ],
   "source": [
    "elements = [\"Hydrogen\", \"Helium\", \"Lithium\", \"Beryllium\", \"Boron\", \"Carbon\", \"Nitrogen\", \"Oxygen\", \"Fluorine\"]\n",
    "\n",
    "for element in elements:\n",
    "    print(element)"
   ]
  },
  {
   "cell_type": "code",
   "execution_count": 88,
   "id": "91af3189-e1dc-4942-96e4-44346617d0bd",
   "metadata": {},
   "outputs": [
    {
     "name": "stdout",
     "output_type": "stream",
     "text": [
      "Fluorine\n",
      "Oxygen\n",
      "Nitrogen\n",
      "Carbon\n",
      "Boron\n",
      "Beryllium\n",
      "Lithium\n",
      "Helium\n",
      "Hydrogen\n"
     ]
    }
   ],
   "source": [
    "elements = [\"Hydrogen\", \"Helium\", \"Lithium\", \"Beryllium\", \"Boron\", \"Carbon\", \"Nitrogen\", \"Oxygen\", \"Fluorine\"]\n",
    "\n",
    "for element in reversed(elements):\n",
    "    print(element)"
   ]
  },
  {
   "cell_type": "code",
   "execution_count": 89,
   "id": "a6ee2ada-c38b-4fb4-878c-0176930467af",
   "metadata": {},
   "outputs": [
    {
     "name": "stdout",
     "output_type": "stream",
     "text": [
      "Hydrogen: 1\n",
      "Helium: 2\n",
      "Lithium: 3\n",
      "Beryllium: 4\n",
      "Boron: 5\n",
      "Carbon: 6\n",
      "Nitrogen: 7\n",
      "Oxygen: 8\n",
      "Fluorine: 9\n"
     ]
    }
   ],
   "source": [
    "elements = [\"Hydrogen\", \"Helium\", \"Lithium\", \"Beryllium\", \"Boron\", \"Carbon\", \"Nitrogen\", \"Oxygen\", \"Fluorine\"]\n",
    "for idx, element in enumerate(elements):\n",
    "    print(f\"{element}: {idx + 1}\")"
   ]
  },
  {
   "cell_type": "code",
   "execution_count": 90,
   "id": "923035a4-5ddd-447b-9b74-2b61b3a0af00",
   "metadata": {},
   "outputs": [
    {
     "name": "stdout",
     "output_type": "stream",
     "text": [
      "['Hydrogen', 'Helium', 'Lithium', 'Beryllium', 'Boron', 'Carbon', 'Nitrogen', 'Oxygen', 'Fluorine']\n"
     ]
    }
   ],
   "source": [
    "elements = [\"Hydrogen\", \"Helium\", \"Lithium\", \"Beryllium\", \"Boron\", \"Carbon\", \"Nitrogen\", \"Oxygen\", \"Fluorine\"]\n",
    "\n",
    "for idx, element in enumerate(reversed(elements)):\n",
    "    element = element.lower() + ' : ' + str(idx + 1)\n",
    "\n",
    "print(elements)"
   ]
  },
  {
   "cell_type": "code",
   "execution_count": 91,
   "id": "993d1bbd-34e2-470a-9c3a-009a912de6c1",
   "metadata": {},
   "outputs": [
    {
     "name": "stdout",
     "output_type": "stream",
     "text": [
      "['fluorine : 9', 'oxygen : 8', 'nitrogen : 7', 'carbon : 6', 'boron : 5', 'carbon : 6 : 4', 'nitrogen : 7 : 3', 'oxygen : 8 : 2', 'fluorine : 9 : 1']\n"
     ]
    }
   ],
   "source": [
    "elements = [\"Hydrogen\", \"Helium\", \"Lithium\", \"Beryllium\", \"Boron\", \"Carbon\", \"Nitrogen\", \"Oxygen\", \"Fluorine\"]\n",
    "\n",
    "for idx, element in enumerate(reversed(elements)):\n",
    "    elements[idx] = element.lower() + ' : ' + str(len(elements) - idx)\n",
    "\n",
    "print(elements)\n"
   ]
  },
  {
   "cell_type": "code",
   "execution_count": 92,
   "id": "51ea9e76-fc6b-401a-99a7-baec65b467eb",
   "metadata": {},
   "outputs": [
    {
     "name": "stdout",
     "output_type": "stream",
     "text": [
      "['Fluorine : 9', 'Oxygen : 8', 'Nitrogen : 7', 'Carbon : 6', 'Boron : 5', 'Beryllium : 4', 'Lithium : 3', 'Helium : 2', 'Hydrogen : 1']\n"
     ]
    }
   ],
   "source": [
    "elements = [\"Hydrogen\", \"Helium\", \"Lithium\", \"Beryllium\", \"Boron\", \"Carbon\", \"Nitrogen\", \"Oxygen\", \"Fluorine\"]\n",
    "new_elements = []\n",
    "\n",
    "# Iterate through the original list in reverse order\n",
    "for i in range(len(elements), 0, -1):\n",
    "    new_elements.append(elements[i - 1] + \" : \" + str(i))\n",
    "\n",
    "# Assign the new list to the old list\n",
    "elements = new_elements\n",
    "\n",
    "print(elements)\n"
   ]
  },
  {
   "cell_type": "code",
   "execution_count": null,
   "id": "5f5f0116-9575-41c3-ab15-ce29aadcfa53",
   "metadata": {},
   "outputs": [
    {
     "name": "stdout",
     "output_type": "stream",
     "text": [
      "10 a\n",
      "9 a\n",
      "8 a\n",
      "7 a\n",
      "6 a\n",
      "5 a\n",
      "4 a\n",
      "3 a\n",
      "2 a\n",
      "0.0 b\n",
      "0.8 b\n",
      "1.6 b\n",
      "2.4 b\n",
      "3.2 b\n",
      "10.2 c\n",
      "9.2 c\n",
      "8.2 c\n",
      "7.199999999999999 c\n",
      "Collected string is 0124F0124F?!? f\n"
     ]
    }
   ],
   "source": [
    "numa = 11\n",
    "while numa > 2.5:\n",
    "    numa = numa - 1\n",
    "    print(numa,\"a\")\n",
    "#b\n",
    "\n",
    "numb = 2.5\n",
    "for i in range(0, 10, 2):\n",
    "    pass\n",
    "    print(i/numb, \"b\")\n",
    "\n",
    "#c\n",
    "\n",
    "numc = 10.2 \n",
    "while True:\n",
    "    if numc < 6.2:\n",
    "        break\n",
    "    print(numc, \"c\")\n",
    "    numc -= 1\n",
    "\n",
    "#f\n",
    "\n",
    "collected_strings = []\n",
    "\n",
    "for i in range(1, 5):\n",
    "    if i % 2 == 0:  \n",
    "        for j in range(5):\n",
    "            if j == 3:\n",
    "                break\n",
    "                collected_strings.append(str(j))\n",
    "        collected_strings.append(str('F'))\n",
    "    else:  \n",
    "        for j in range(5):\n",
    "            if j == 3:\n",
    "                continue\n",
    "            elif j == 4:\n",
    "                pass\n",
    "            collected_strings.append(str(j))\n",
    "\n",
    "for i in range(3):\n",
    "    if i == 1:\n",
    "        collected_strings.append(\"!\")\n",
    "        continue\n",
    "    collected_strings.append(\"?\")\n",
    "\n",
    "collect_str = \"\".join(collected_strings)\n",
    "print(f'Collected string is {collect_str}', \"f\")\n",
    "\n",
    "#g\n",
    "\n",
    "n = 10 \n",
    "i = 10\n",
    "while i > 0:\n",
    "    if i % 2 == 0:\n",
    "        i=i/2\n",
    "    else: \n",
    "        i=i+1\n",
    "print(i, \"g\")\n",
    "#i=5, i=6, i=3, i=4, i=2, i=1, i=0.5, ...."
   ]
  },
  {
   "cell_type": "code",
   "execution_count": null,
   "id": "e3633864-59b5-4210-ba78-fd0035d663df",
   "metadata": {},
   "outputs": [],
   "source": []
  },
  {
   "cell_type": "code",
   "execution_count": null,
   "id": "956fab70-fbcf-45dd-bb92-c5e20b1e55d9",
   "metadata": {},
   "outputs": [],
   "source": []
  },
  {
   "cell_type": "code",
   "execution_count": null,
   "id": "36345e9e-403a-4a5a-b4ec-fc65868a9d98",
   "metadata": {},
   "outputs": [],
   "source": []
  },
  {
   "cell_type": "code",
   "execution_count": null,
   "id": "adc603bc-86bb-4ad8-ad9b-4b8b147dfae1",
   "metadata": {},
   "outputs": [],
   "source": []
  }
 ],
 "metadata": {
  "kernelspec": {
   "display_name": "Python 3 (ipykernel)",
   "language": "python",
   "name": "python3"
  },
  "language_info": {
   "codemirror_mode": {
    "name": "ipython",
    "version": 3
   },
   "file_extension": ".py",
   "mimetype": "text/x-python",
   "name": "python",
   "nbconvert_exporter": "python",
   "pygments_lexer": "ipython3",
   "version": "3.10.13"
  }
 },
 "nbformat": 4,
 "nbformat_minor": 5
}
