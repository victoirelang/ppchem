{
 "cells": [
  {
   "cell_type": "code",
   "execution_count": 1,
   "id": "e047db61-a700-4222-80cd-f1771078bc76",
   "metadata": {},
   "outputs": [
    {
     "name": "stdout",
     "output_type": "stream",
     "text": [
      "1\n",
      "!\n",
      "('b', 'c')\n"
     ]
    }
   ],
   "source": [
    "# Integers and floats\n",
    "int_example = 3\n",
    "float_example = 3.14\n",
    "\n",
    "## Sequence Data Types\n",
    "# Strings, lists, and tuples\n",
    "str_example = \"Hello, Python!\"\n",
    "list_example = [1, 2, 3]\n",
    "tuple_example = (\"a\", \"b\", \"c\")\n",
    "\n",
    "# Indexing and slicing\n",
    "print(list_example[0])  # First element of list\n",
    "print(str_example[-1])  # Last character of string\n",
    "print(tuple_example[1:])  # Slicing tuple from second element to end\n"
   ]
  },
  {
   "cell_type": "code",
   "execution_count": 2,
   "id": "a770a89f-75bb-4346-ba94-6b7967bebf65",
   "metadata": {},
   "outputs": [
    {
     "name": "stdout",
     "output_type": "stream",
     "text": [
      "value1\n",
      "1\n",
      "2\n",
      "3\n",
      "4\n"
     ]
    }
   ],
   "source": [
    "# Adding and accessing elements\n",
    "list_example.append(4)  # Adding an element to a list\n",
    "dict_example = {\"key1\": \"value1\", \"key2\": \"value2\"}\n",
    "print(dict_example[\"key1\"])  # Accessing a value from a dictionary\n",
    "\n",
    "## Loops and Iterations\n",
    "# For loop with a list\n",
    "for item in list_example:\n",
    "    print(item)"
   ]
  },
  {
   "cell_type": "code",
   "execution_count": 3,
   "id": "af56a6cf-1f2b-4d66-afc0-acd13b447020",
   "metadata": {},
   "outputs": [
    {
     "name": "stdout",
     "output_type": "stream",
     "text": [
      "While loop...\n",
      "1\n",
      "2\n",
      "3\n",
      "4\n",
      "For loop...\n",
      "1\n",
      "2\n",
      "3\n",
      "4\n"
     ]
    }
   ],
   "source": [
    "# While loop example\n",
    "print(\"While loop...\")\n",
    "i = 0\n",
    "while i < len(list_example):\n",
    "    print(list_example[i])\n",
    "    i += 1\n",
    "\n",
    "# Or equivalently in a for loop\n",
    "print(\"For loop...\")\n",
    "for element in list_example:\n",
    "    print(element)"
   ]
  },
  {
   "cell_type": "code",
   "execution_count": 4,
   "id": "41679083-501c-4e6c-91b5-a36ab2b10b05",
   "metadata": {},
   "outputs": [
    {
     "name": "stdout",
     "output_type": "stream",
     "text": [
      "At least one is true\n"
     ]
    }
   ],
   "source": [
    "# Boolean variables and conditional statements\n",
    "a = True\n",
    "b = False\n",
    "if a and b:\n",
    "    print(\"Both are true\")\n",
    "elif a or b:\n",
    "    print(\"At least one is true\")  # this will be printed!\n",
    "else:\n",
    "    print(\"Neither is true\")"
   ]
  },
  {
   "cell_type": "code",
   "execution_count": 5,
   "id": "411ff8a6-0245-4857-a713-bb35137a3007",
   "metadata": {},
   "outputs": [
    {
     "ename": "SyntaxError",
     "evalue": "invalid syntax (859298310.py, line 1)",
     "output_type": "error",
     "traceback": [
      "\u001b[0;36m  Cell \u001b[0;32mIn[5], line 1\u001b[0;36m\u001b[0m\n\u001b[0;31m    WEEK 3\u001b[0m\n\u001b[0m         ^\u001b[0m\n\u001b[0;31mSyntaxError\u001b[0m\u001b[0;31m:\u001b[0m invalid syntax\n"
     ]
    }
   ],
   "source": [
    "#WEEK 3\n"
   ]
  },
  {
   "cell_type": "code",
   "execution_count": 6,
   "id": "e5d237e6-5911-4d48-9e0b-d5d4944b74e4",
   "metadata": {},
   "outputs": [
    {
     "name": "stdout",
     "output_type": "stream",
     "text": [
      "Current Directory: /Users/victoire/ppchem/exercices\n",
      "The file does not exist.\n"
     ]
    }
   ],
   "source": [
    "from pathlib import Path\n",
    "\n",
    "# Create a Path object for the current directory\n",
    "current_directory = Path.cwd()\n",
    "print(\"Current Directory:\", current_directory.resolve())\n",
    "\n",
    "# Creating a Path object for an example file that does not yet exist\n",
    "example_file_path = current_directory / \"example.txt\"\n",
    "\n",
    "# Reading the contents of the file\n",
    "if example_file_path.exists():\n",
    "    with example_file_path.open(\"r\") as file:\n",
    "        content = file.read()\n",
    "        print(content)\n",
    "else:\n",
    "    print(\"The file does not exist.\")\n",
    "    "
   ]
  },
  {
   "cell_type": "code",
   "execution_count": 8,
   "id": "5072b2d1-07d0-48be-9fc2-afda6d1badc3",
   "metadata": {},
   "outputs": [
    {
     "name": "stdout",
     "output_type": "stream",
     "text": [
      "\n"
     ]
    }
   ],
   "source": [
    "#Now let's create the file and try run the code again. Before running the cell, think about the expected output.\n",
    "example_file_path.touch()\n",
    "\n",
    "# Reading the contents of the file\n",
    "if example_file_path.exists():\n",
    "    with example_file_path.open(\"r\") as file:\n",
    "        content = file.read()\n",
    "        print(content)\n",
    "else:\n",
    "    print(\"The file does not exist.\")"
   ]
  },
  {
   "cell_type": "code",
   "execution_count": 9,
   "id": "55c1d2de-a5fe-4976-90f2-d5b720b88f0f",
   "metadata": {},
   "outputs": [
    {
     "name": "stdout",
     "output_type": "stream",
     "text": [
      "File exists but is empty.\n"
     ]
    }
   ],
   "source": [
    "#We created the file using the touch() method. It exists, but there is no content. Maybe this code would be more useful:\n",
    "# Reading the contents of the file\n",
    "if example_file_path.exists():\n",
    "    with example_file_path.open(\"r\") as file:\n",
    "        content = file.read()\n",
    "        if len(content) == 0:\n",
    "            print(\"File exists but is empty.\")\n",
    "        else:\n",
    "            print(content)\n",
    "else:\n",
    "    print(\"The file does not exist.\")\n"
   ]
  },
  {
   "cell_type": "code",
   "execution_count": 11,
   "id": "5a89ec4e-fd1e-427f-b081-bd1698990c6b",
   "metadata": {},
   "outputs": [
    {
     "name": "stdout",
     "output_type": "stream",
     "text": [
      "File exists but is empty.\n"
     ]
    }
   ],
   "source": [
    "molecule_name = \"Caffeine\"\n",
    "molecule_image_url = \"https://en.wikipedia.org/wiki/Caffeine#/media/File:Caffeine_structure.svg\"\n",
    "molecule_description = \"Caffeine is a central nervous system (CNS) stimulant of the methylxanthine class.\"\n",
    "# Define path\n",
    "molecule_info_path = current_directory / \"molecule_info.txt\"\n",
    "\n",
    "# Create file\n",
    "molecule_info_path.touch()\n",
    "\n",
    "# Write to file\n",
    "with molecule_info_path.open(\"w\") as file:\n",
    "    file.write(\n",
    "        f\"Molecule: {molecule_name}\\n\"\n",
    "        f\"Image URL: {molecule_image_url}\\n\"\n",
    "        f\"Description: {molecule_description}\")\n",
    "# Reading the contents of the file\n",
    "if example_file_path.exists():\n",
    "    with example_file_path.open(\"r\") as file:\n",
    "        content = file.read()\n",
    "        if len(content) == 0:\n",
    "            print(\"File exists but is empty.\")\n",
    "        else:\n",
    "            print(content)\n",
    "else:\n",
    "    print(\"The file does not exist.\")\n"
   ]
  },
  {
   "cell_type": "code",
   "execution_count": 12,
   "id": "8e5e1fb8-b385-4fac-8c67-2292abb3d7fb",
   "metadata": {},
   "outputs": [],
   "source": [
    "############FUNCTIONS!!!!\n",
    "def check_file_existence_and_read_contents(file_path_object: Path):\n",
    "    \"\"\"\n",
    "    Checks the existence of the file whose path is pointed to in the input variable\n",
    "    `file_path_object`. \n",
    "    \n",
    "    If it exists and is empty, prints \"File exists but is empty. If it exists and is not\n",
    "    empty, prints the contents of the file. If it doesn't exist, prints \"The file does\n",
    "    not exist.\"\n",
    "\n",
    "    :param file_path_object: the `pathlib.Path` object pointing to the absolute path of\n",
    "        the file to be checked and read.\n",
    "    \"\"\"\n",
    "    if file_path_object.exists():  # exists\n",
    "\n",
    "        # 'with' is what's known as acontext manager. It keeps the file open while we\n",
    "        # are running code inside the `with` block, but closes it when leaving the code\n",
    "        # block.\n",
    "        with file_path_object.open(\"r\") as file:\n",
    "            content = file.read()  # read contents of the file\n",
    "\n",
    "            if len(content) == 0:  # empty\n",
    "                print(\"File exists but is empty.\")\n",
    "\n",
    "            else:  # not empty\n",
    "                print(content)\n",
    "\n",
    "    else:  # doesn't exist\n",
    "        print(\"The file does not exist.\")\n",
    "check_file_existence_and_read_contents(example_file_path)  # calls the function\n",
    "check_file_existence_and_read_contents(molecule_info_path)\n",
    "\n"
   ]
  },
  {
   "cell_type": "code",
   "execution_count": 21,
   "id": "665948e0-a502-4221-a97d-7a5eb480450e",
   "metadata": {},
   "outputs": [
    {
     "name": "stdout",
     "output_type": "stream",
     "text": [
      "Experimental yield: 85.0 %\n",
      "Experimental yield: -85.0 %\n",
      "Experimental yield: 123450.0 %\n"
     ]
    },
    {
     "ename": "TypeError",
     "evalue": "unsupported operand type(s) for /: 'int' and 'str'",
     "output_type": "error",
     "traceback": [
      "\u001b[0;31m---------------------------------------------------------------------------\u001b[0m",
      "\u001b[0;31mTypeError\u001b[0m                                 Traceback (most recent call last)",
      "Cell \u001b[0;32mIn[21], line 20\u001b[0m\n\u001b[1;32m     18\u001b[0m \u001b[38;5;28mprint\u001b[39m(\u001b[38;5;124mf\u001b[39m\u001b[38;5;124m\"\u001b[39m\u001b[38;5;124mExperimental yield: \u001b[39m\u001b[38;5;132;01m{\u001b[39;00myield_percent\u001b[38;5;132;01m}\u001b[39;00m\u001b[38;5;124m %\u001b[39m\u001b[38;5;124m\"\u001b[39m)\n\u001b[1;32m     19\u001b[0m \u001b[38;5;66;03m#Or how about if we pass an incorrect data type to the function?\u001b[39;00m\n\u001b[0;32m---> 20\u001b[0m yield_percent \u001b[38;5;241m=\u001b[39m \u001b[43mreaction_yield\u001b[49m\u001b[43m(\u001b[49m\u001b[38;5;124;43m\"\u001b[39;49m\u001b[38;5;124;43mI never took chemistry\u001b[39;49m\u001b[38;5;124;43m\"\u001b[39;49m\u001b[43m,\u001b[49m\u001b[43m \u001b[49m\u001b[38;5;241;43m101\u001b[39;49m\u001b[43m)\u001b[49m  \u001b[38;5;66;03m# passing a string and an integer\u001b[39;00m\n\u001b[1;32m     21\u001b[0m \u001b[38;5;28mprint\u001b[39m(\u001b[38;5;124mf\u001b[39m\u001b[38;5;124m\"\u001b[39m\u001b[38;5;124mExperimental yield: \u001b[39m\u001b[38;5;132;01m{\u001b[39;00myield_percent\u001b[38;5;132;01m}\u001b[39;00m\u001b[38;5;124m %\u001b[39m\u001b[38;5;124m\"\u001b[39m)\n",
      "Cell \u001b[0;32mIn[21], line 8\u001b[0m, in \u001b[0;36mreaction_yield\u001b[0;34m(theoretical_yield, actual_yield)\u001b[0m\n\u001b[1;32m      1\u001b[0m \u001b[38;5;28;01mdef\u001b[39;00m \u001b[38;5;21mreaction_yield\u001b[39m(theoretical_yield, actual_yield):\n\u001b[1;32m      2\u001b[0m \u001b[38;5;250m    \u001b[39m\u001b[38;5;124;03m\"\"\"\u001b[39;00m\n\u001b[1;32m      3\u001b[0m \u001b[38;5;124;03m    Calculate the percent yield of a reaction.\u001b[39;00m\n\u001b[1;32m      4\u001b[0m \u001b[38;5;124;03m    theoretical_yield: Theoretical yield in grams\u001b[39;00m\n\u001b[1;32m      5\u001b[0m \u001b[38;5;124;03m    actual_yield: Actual yield obtained from the reaction in grams\u001b[39;00m\n\u001b[1;32m      6\u001b[0m \u001b[38;5;124;03m    Returns the percent yield as a percentage.\u001b[39;00m\n\u001b[1;32m      7\u001b[0m \u001b[38;5;124;03m    \"\"\"\u001b[39;00m\n\u001b[0;32m----> 8\u001b[0m     percent_yield \u001b[38;5;241m=\u001b[39m (\u001b[43mactual_yield\u001b[49m\u001b[43m \u001b[49m\u001b[38;5;241;43m/\u001b[39;49m\u001b[43m \u001b[49m\u001b[43mtheoretical_yield\u001b[49m) \u001b[38;5;241m*\u001b[39m \u001b[38;5;241m100\u001b[39m\n\u001b[1;32m      9\u001b[0m     \u001b[38;5;28;01mreturn\u001b[39;00m percent_yield\n",
      "\u001b[0;31mTypeError\u001b[0m: unsupported operand type(s) for /: 'int' and 'str'"
     ]
    }
   ],
   "source": [
    "def reaction_yield(theoretical_yield, actual_yield):\n",
    "    \"\"\"\n",
    "    Calculate the percent yield of a reaction.\n",
    "    theoretical_yield: Theoretical yield in grams\n",
    "    actual_yield: Actual yield obtained from the reaction in grams\n",
    "    Returns the percent yield as a percentage.\n",
    "    \"\"\"\n",
    "    percent_yield = (actual_yield / theoretical_yield) * 100\n",
    "    return percent_yield\n",
    "# Example usage:\n",
    "yield_percent = reaction_yield(10.0, 8.5)\n",
    "print(f\"Experimental yield: {yield_percent} %\")\n",
    "#What's going to happen if we pass non-physical inputs to the function?\n",
    "#For instance, a negative yield, or an actual yield that is higher than the theoretical yield?\n",
    "yield_percent = reaction_yield(-10.0, 8.5)\n",
    "print(f\"Experimental yield: {yield_percent} %\")\n",
    "yield_percent = reaction_yield(theoretical_yield=10.0, actual_yield=12345)\n",
    "print(f\"Experimental yield: {yield_percent} %\")\n",
    "#Or how about if we pass an incorrect data type to the function?\n",
    "#yield_percent = reaction_yield(\"I never took chemistry\", 101)  # passing a string and an integer\n",
    "print(f\"Experimental yield: {yield_percent} %\")\n"
   ]
  },
  {
   "cell_type": "code",
   "execution_count": 28,
   "id": "8a2ef6e8-19e3-4442-9807-3aec5a4757ae",
   "metadata": {},
   "outputs": [
    {
     "ename": "TypeError",
     "evalue": "Invalid type <class 'str'>: `theoretical_yield` should be passed as a float.",
     "output_type": "error",
     "traceback": [
      "\u001b[0;31m---------------------------------------------------------------------------\u001b[0m",
      "\u001b[0;31mTypeError\u001b[0m                                 Traceback (most recent call last)",
      "Cell \u001b[0;32mIn[28], line 47\u001b[0m\n\u001b[1;32m     35\u001b[0m     \u001b[38;5;28;01mreturn\u001b[39;00m percent_yield\n\u001b[1;32m     36\u001b[0m \u001b[38;5;66;03m# This does (and should) raise an error!\u001b[39;00m\n\u001b[1;32m     37\u001b[0m \u001b[38;5;66;03m#yield_percent = reaction_yield(-10.0, 8.5)\u001b[39;00m\n\u001b[1;32m     38\u001b[0m \u001b[38;5;66;03m#print(f\"Experimental yield: {yield_percent} %\")\u001b[39;00m\n\u001b[0;32m   (...)\u001b[0m\n\u001b[1;32m     44\u001b[0m \u001b[38;5;66;03m#yield_percent = reaction_yield(25, 5)  # error!\u001b[39;00m\n\u001b[1;32m     45\u001b[0m \u001b[38;5;66;03m#print(f\"Experimental yield: {yield_percent} %\")\u001b[39;00m\n\u001b[0;32m---> 47\u001b[0m yield_percent \u001b[38;5;241m=\u001b[39m \u001b[43mreaction_yield\u001b[49m\u001b[43m(\u001b[49m\u001b[38;5;124;43m\"\u001b[39;49m\u001b[38;5;124;43m25\u001b[39;49m\u001b[38;5;124;43m\"\u001b[39;49m\u001b[43m,\u001b[49m\u001b[43m \u001b[49m\u001b[38;5;124;43m\"\u001b[39;49m\u001b[38;5;124;43m5\u001b[39;49m\u001b[38;5;124;43m\"\u001b[39;49m\u001b[43m)\u001b[49m  \u001b[38;5;66;03m# error!\u001b[39;00m\n\u001b[1;32m     48\u001b[0m \u001b[38;5;28mprint\u001b[39m(\u001b[38;5;124mf\u001b[39m\u001b[38;5;124m\"\u001b[39m\u001b[38;5;124mExperimental yield: \u001b[39m\u001b[38;5;132;01m{\u001b[39;00myield_percent\u001b[38;5;132;01m}\u001b[39;00m\u001b[38;5;124m %\u001b[39m\u001b[38;5;124m\"\u001b[39m)\n",
      "Cell \u001b[0;32mIn[28], line 15\u001b[0m, in \u001b[0;36mreaction_yield\u001b[0;34m(theoretical_yield, actual_yield)\u001b[0m\n\u001b[1;32m     13\u001b[0m \u001b[38;5;66;03m# Type checks: input yields should be passed as floats\u001b[39;00m\n\u001b[1;32m     14\u001b[0m \u001b[38;5;28;01mif\u001b[39;00m \u001b[38;5;129;01mnot\u001b[39;00m \u001b[38;5;28misinstance\u001b[39m(theoretical_yield, \u001b[38;5;28mfloat\u001b[39m):\n\u001b[0;32m---> 15\u001b[0m     \u001b[38;5;28;01mraise\u001b[39;00m \u001b[38;5;167;01mTypeError\u001b[39;00m(\n\u001b[1;32m     16\u001b[0m         \u001b[38;5;124mf\u001b[39m\u001b[38;5;124m\"\u001b[39m\u001b[38;5;124mInvalid type \u001b[39m\u001b[38;5;132;01m{\u001b[39;00m\u001b[38;5;28mtype\u001b[39m(theoretical_yield)\u001b[38;5;132;01m}\u001b[39;00m\u001b[38;5;124m: `theoretical_yield`\u001b[39m\u001b[38;5;124m\"\u001b[39m\n\u001b[1;32m     17\u001b[0m         \u001b[38;5;124m\"\u001b[39m\u001b[38;5;124m should be passed as a float.\u001b[39m\u001b[38;5;124m\"\u001b[39m\n\u001b[1;32m     18\u001b[0m     )\n\u001b[1;32m     19\u001b[0m \u001b[38;5;28;01mif\u001b[39;00m \u001b[38;5;129;01mnot\u001b[39;00m \u001b[38;5;28misinstance\u001b[39m(actual_yield, \u001b[38;5;28mfloat\u001b[39m):\n\u001b[1;32m     20\u001b[0m     \u001b[38;5;28;01mraise\u001b[39;00m \u001b[38;5;167;01mTypeError\u001b[39;00m(\n\u001b[1;32m     21\u001b[0m         \u001b[38;5;124mf\u001b[39m\u001b[38;5;124m\"\u001b[39m\u001b[38;5;124mInvalid type \u001b[39m\u001b[38;5;132;01m{\u001b[39;00m\u001b[38;5;28mtype\u001b[39m(actual_yield)\u001b[38;5;132;01m}\u001b[39;00m\u001b[38;5;124m: `actual_yield`\u001b[39m\u001b[38;5;124m\"\u001b[39m\n\u001b[1;32m     22\u001b[0m         \u001b[38;5;124m\"\u001b[39m\u001b[38;5;124m should be passed as a float.\u001b[39m\u001b[38;5;124m\"\u001b[39m\n\u001b[1;32m     23\u001b[0m     )\n",
      "\u001b[0;31mTypeError\u001b[0m: Invalid type <class 'str'>: `theoretical_yield` should be passed as a float."
     ]
    }
   ],
   "source": [
    "# TODO: add a descriptive error message to that checks the relationship between the\n",
    "# theoretical and actual yields\n",
    "\n",
    "def reaction_yield(theoretical_yield: float, actual_yield: float) -> float:\n",
    "    \"\"\"\n",
    "    Calculates the percent yield of a reaction.\n",
    "\n",
    "    :param theoretical_yield: float, the theoretical yield of the reaction, in grams.\n",
    "    :param actual_yield: float, the actual yield obtained from the reaction, in grams.\n",
    "    \n",
    "    :return: float, the yield of the reaction as a percentage.\n",
    "    \"\"\"\n",
    "    # Type checks: input yields should be passed as floats\n",
    "    if not isinstance(theoretical_yield, float):\n",
    "        raise TypeError(\n",
    "            f\"Invalid type {type(theoretical_yield)}: `theoretical_yield`\"\n",
    "            \" should be passed as a float.\"\n",
    "        )\n",
    "    if not isinstance(actual_yield, float):\n",
    "        raise TypeError(\n",
    "            f\"Invalid type {type(actual_yield)}: `actual_yield`\"\n",
    "            \" should be passed as a float.\"\n",
    "        )\n",
    "\n",
    "    # Input checks\n",
    "    if theoretical_yield < 0 or actual_yield < 0:  # yields should be non-negative\n",
    "        raise ValueError(\"Input yields must be a non-negative float\")\n",
    "\n",
    "    if actual_yield > theoretical_yield:  # actual yield can't be more than the theoretical\n",
    "        # TODO: add a descriptive error message here\n",
    "        raise ValueError(\"actual yiels is too high, not possible\")\n",
    "\n",
    "    # Calculate the yield and return\n",
    "    percent_yield = (actual_yield / theoretical_yield) * 100\n",
    "    return percent_yield\n",
    "# This does (and should) raise an error!\n",
    "#yield_percent = reaction_yield(-10.0, 8.5)\n",
    "#print(f\"Experimental yield: {yield_percent} %\")\n",
    "\n",
    "# This gives a much nicer error message than: \"TypeError: unsupported operand type(s) for /: 'int' and 'str'\"\n",
    "#yield_percent = reaction_yield(\"I never took chemistry\", 101)\n",
    "#print(f\"Experimental yield: {yield_percent} %\")\n",
    "\n",
    "#yield_percent = reaction_yield(25, 5)  # error!\n",
    "#print(f\"Experimental yield: {yield_percent} %\")\n",
    "\n",
    "yield_percent = reaction_yield(\"25\", \"5\")  # error!\n",
    "print(f\"Experimental yield: {yield_percent} %\")"
   ]
  },
  {
   "cell_type": "code",
   "execution_count": null,
   "id": "d25a2b73-a718-42be-8d4e-1584736f96d8",
   "metadata": {},
   "outputs": [],
   "source": []
  },
  {
   "cell_type": "code",
   "execution_count": 31,
   "id": "d53170ae-4ef3-42b9-be07-1cc910c85dad",
   "metadata": {},
   "outputs": [
    {
     "name": "stdout",
     "output_type": "stream",
     "text": [
      "11\n"
     ]
    }
   ],
   "source": [
    "########ERROR HANDLING\n",
    "a = 5\n",
    "b = \"6\"\n",
    "print(a + int(b))  # 11\n",
    "\n",
    "\n",
    "a = 5\n",
    "b = \"6\"\n",
    "#print(a + b)  # TypeError"
   ]
  },
  {
   "cell_type": "code",
   "execution_count": 36,
   "id": "8c7afd7f-8c1d-423b-9dd9-cf25e39849cb",
   "metadata": {},
   "outputs": [
    {
     "name": "stdout",
     "output_type": "stream",
     "text": [
      "11\n",
      "11.0\n",
      "None\n",
      "<class 'NoneType'>\n"
     ]
    }
   ],
   "source": [
    "# TODO: complete the function\n",
    "def add_five(number: int) -> int:\n",
    "    \"\"\"\n",
    "    adds 5 to numbers\"\"\"\n",
    "    b=number + 5\n",
    "    print(b)\n",
    "    # TODO: add a docstring\n",
    "\n",
    "    # TODO: your code here\n",
    "\n",
    "# Passing an int --> expected behaviour. Integer 11 returned\n",
    "add_five(6)\n",
    "\n",
    "# Passing a str --> TypeError\n",
    "#add_five(\"6\")\n",
    "\n",
    "# Passing a float --> no error, but returns a float not an int\n",
    "result = add_five(6.0)\n",
    "print(result)\n",
    "print(type(result))"
   ]
  },
  {
   "cell_type": "code",
   "execution_count": 47,
   "id": "928ac0b5-7179-4069-b841-9cf145eb7dcc",
   "metadata": {},
   "outputs": [
    {
     "name": "stdout",
     "output_type": "stream",
     "text": [
      "11 :1\n",
      "<class 'int'> :1\n",
      "11 :2\n",
      "<class 'int'> :2\n",
      "11 :3\n",
      "<class 'int'> :3\n"
     ]
    },
    {
     "ename": "ValueError",
     "evalue": "Invalid input argument: 'hello'. `number` must be an int, or convertible to an int. Original error message: invalid literal for int() with base 10: 'hello'",
     "output_type": "error",
     "traceback": [
      "\u001b[0;31m---------------------------------------------------------------------------\u001b[0m",
      "\u001b[0;31mValueError\u001b[0m                                Traceback (most recent call last)",
      "Cell \u001b[0;32mIn[47], line 37\u001b[0m, in \u001b[0;36madd_five\u001b[0;34m(number)\u001b[0m\n\u001b[1;32m     36\u001b[0m \u001b[38;5;28;01mtry\u001b[39;00m:  \u001b[38;5;66;03m# program attempts to execute this code\u001b[39;00m\n\u001b[0;32m---> 37\u001b[0m     number \u001b[38;5;241m=\u001b[39m \u001b[38;5;28;43mint\u001b[39;49m\u001b[43m(\u001b[49m\u001b[43mnumber\u001b[49m\u001b[43m)\u001b[49m\n\u001b[1;32m     39\u001b[0m \u001b[38;5;28;01mexcept\u001b[39;00m \u001b[38;5;167;01mValueError\u001b[39;00m \u001b[38;5;28;01mas\u001b[39;00m e:     \u001b[38;5;66;03m# unless there's an ValueError: catch it...\u001b[39;00m\n",
      "\u001b[0;31mValueError\u001b[0m: invalid literal for int() with base 10: 'hello'",
      "\nDuring handling of the above exception, another exception occurred:\n",
      "\u001b[0;31mValueError\u001b[0m                                Traceback (most recent call last)",
      "Cell \u001b[0;32mIn[47], line 49\u001b[0m\n\u001b[1;32m     46\u001b[0m     \u001b[38;5;28;01mreturn\u001b[39;00m \u001b[38;5;241m5\u001b[39m \u001b[38;5;241m+\u001b[39m number\n\u001b[1;32m     48\u001b[0m \u001b[38;5;66;03m# More meaningful error message raised\u001b[39;00m\n\u001b[0;32m---> 49\u001b[0m \u001b[43madd_five\u001b[49m\u001b[43m(\u001b[49m\u001b[38;5;124;43m\"\u001b[39;49m\u001b[38;5;124;43mhello\u001b[39;49m\u001b[38;5;124;43m\"\u001b[39;49m\u001b[43m)\u001b[49m\n",
      "Cell \u001b[0;32mIn[47], line 40\u001b[0m, in \u001b[0;36madd_five\u001b[0;34m(number)\u001b[0m\n\u001b[1;32m     37\u001b[0m     number \u001b[38;5;241m=\u001b[39m \u001b[38;5;28mint\u001b[39m(number)\n\u001b[1;32m     39\u001b[0m \u001b[38;5;28;01mexcept\u001b[39;00m \u001b[38;5;167;01mValueError\u001b[39;00m \u001b[38;5;28;01mas\u001b[39;00m e:     \u001b[38;5;66;03m# unless there's an ValueError: catch it...\u001b[39;00m\n\u001b[0;32m---> 40\u001b[0m     \u001b[38;5;28;01mraise\u001b[39;00m \u001b[38;5;167;01mValueError\u001b[39;00m(  \u001b[38;5;66;03m# ... and raise a new ValueError with a meaningful message\u001b[39;00m\n\u001b[1;32m     41\u001b[0m         \u001b[38;5;124mf\u001b[39m\u001b[38;5;124m\"\u001b[39m\u001b[38;5;124mInvalid input argument: \u001b[39m\u001b[38;5;124m'\u001b[39m\u001b[38;5;132;01m{\u001b[39;00mnumber\u001b[38;5;132;01m}\u001b[39;00m\u001b[38;5;124m'\u001b[39m\u001b[38;5;124m.\u001b[39m\u001b[38;5;124m\"\u001b[39m\n\u001b[1;32m     42\u001b[0m         \u001b[38;5;124m\"\u001b[39m\u001b[38;5;124m `number` must be an int, or convertible to an int.\u001b[39m\u001b[38;5;124m\"\u001b[39m\n\u001b[1;32m     43\u001b[0m         \u001b[38;5;124mf\u001b[39m\u001b[38;5;124m\"\u001b[39m\u001b[38;5;124m Original error message: \u001b[39m\u001b[38;5;132;01m{\u001b[39;00me\u001b[38;5;132;01m}\u001b[39;00m\u001b[38;5;124m\"\u001b[39m\n\u001b[1;32m     44\u001b[0m     )\n\u001b[1;32m     46\u001b[0m \u001b[38;5;28;01mreturn\u001b[39;00m \u001b[38;5;241m5\u001b[39m \u001b[38;5;241m+\u001b[39m number\n",
      "\u001b[0;31mValueError\u001b[0m: Invalid input argument: 'hello'. `number` must be an int, or convertible to an int. Original error message: invalid literal for int() with base 10: 'hello'"
     ]
    }
   ],
   "source": [
    "#What if we didn't want this to happen - i.e. if we always wanted to return an int?\n",
    "\n",
    "#Well, we could cast the output to an int, like this:\n",
    "\n",
    "def add_five(number: int) -> int:\n",
    "    \"\"\"Adds 5 to `number` and returns the result\"\"\"\n",
    "    return int(5 + number)\n",
    "# Passing a float --> no error, but returns a float not an int\n",
    "result = add_five(6.0)\n",
    "print(result, \":1\")\n",
    "print(type(result), \":1\")\n",
    "\n",
    "#Alternatively we could cast the input arguments. At the start of the function body, let's try to cast the input argument number to an int, then use it in the operation:\n",
    "def add_five(number: int) -> int:\n",
    "    \"\"\"Adds 5 to `number` and returns the result\"\"\"\n",
    "    number = int(number)\n",
    "    return 5 + number\n",
    "# Passing a float --> returns an int\n",
    "result = add_five(\"6\")\n",
    "print(result, \":2\")\n",
    "print(type(result), \":2\")\n",
    "\n",
    "# Passing a float --> returns an int\n",
    "result = add_five(6.0)\n",
    "print(result,\":3\")\n",
    "print(type(result),\":3\")\n",
    "\n",
    "#... but still doesn't raise a helpful error message when we try and pass an invalid argument, i.e. in this case a non-castable string:\n",
    "#add_five(\"hello\")\n",
    "\n",
    "\n",
    "\n",
    "def add_five(number: int) -> int:\n",
    "    \"\"\"Adds 5 to `number` and returns the result\"\"\"\n",
    "    \n",
    "    try:  # program attempts to execute this code\n",
    "        number = int(number)\n",
    "\n",
    "    except ValueError as e:     # unless there's an ValueError: catch it...\n",
    "        raise ValueError(  # ... and raise a new ValueError with a meaningful message\n",
    "            f\"Invalid input argument: '{number}'.\"\n",
    "            \" `number` must be an int, or convertible to an int.\"\n",
    "            f\" Original error message: {e}\"\n",
    "        )\n",
    "    \n",
    "    return 5 + number\n",
    "\n",
    "# More meaningful error message raised\n",
    "add_five(\"hello\")"
   ]
  },
  {
   "cell_type": "code",
   "execution_count": 50,
   "id": "e7b4a50e-b369-4afd-ae31-6490c2bea51d",
   "metadata": {},
   "outputs": [
    {
     "ename": "ValueError",
     "evalue": "Invalid input 'hello': `actual_yield` should be passed as a float, or be convertible to a float. Original error: could not convert string to float: 'hello'",
     "output_type": "error",
     "traceback": [
      "\u001b[0;31m---------------------------------------------------------------------------\u001b[0m",
      "\u001b[0;31mValueError\u001b[0m                                Traceback (most recent call last)",
      "Cell \u001b[0;32mIn[50], line 29\u001b[0m, in \u001b[0;36mreaction_yield\u001b[0;34m(theoretical_yield, actual_yield)\u001b[0m\n\u001b[1;32m     28\u001b[0m \u001b[38;5;28;01mtry\u001b[39;00m:\n\u001b[0;32m---> 29\u001b[0m     actual_yield \u001b[38;5;241m=\u001b[39m \u001b[38;5;28;43mfloat\u001b[39;49m\u001b[43m(\u001b[49m\u001b[43mactual_yield\u001b[49m\u001b[43m)\u001b[49m\n\u001b[1;32m     30\u001b[0m \u001b[38;5;28;01mexcept\u001b[39;00m \u001b[38;5;167;01mValueError\u001b[39;00m \u001b[38;5;28;01mas\u001b[39;00m e:\n",
      "\u001b[0;31mValueError\u001b[0m: could not convert string to float: 'hello'",
      "\nDuring handling of the above exception, another exception occurred:\n",
      "\u001b[0;31mValueError\u001b[0m                                Traceback (most recent call last)",
      "Cell \u001b[0;32mIn[50], line 53\u001b[0m\n\u001b[1;32m     50\u001b[0m reaction_yield(\u001b[38;5;124m\"\u001b[39m\u001b[38;5;124m80\u001b[39m\u001b[38;5;124m\"\u001b[39m, \u001b[38;5;124m\"\u001b[39m\u001b[38;5;124m70\u001b[39m\u001b[38;5;124m\"\u001b[39m)\n\u001b[1;32m     52\u001b[0m \u001b[38;5;66;03m# But if they are non-convertible, we get a nicer error message\u001b[39;00m\n\u001b[0;32m---> 53\u001b[0m \u001b[43mreaction_yield\u001b[49m\u001b[43m(\u001b[49m\u001b[38;5;241;43m4.0\u001b[39;49m\u001b[43m,\u001b[49m\u001b[43m \u001b[49m\u001b[38;5;124;43m\"\u001b[39;49m\u001b[38;5;124;43mhello\u001b[39;49m\u001b[38;5;124;43m\"\u001b[39;49m\u001b[43m)\u001b[49m\n",
      "Cell \u001b[0;32mIn[50], line 31\u001b[0m, in \u001b[0;36mreaction_yield\u001b[0;34m(theoretical_yield, actual_yield)\u001b[0m\n\u001b[1;32m     29\u001b[0m         actual_yield \u001b[38;5;241m=\u001b[39m \u001b[38;5;28mfloat\u001b[39m(actual_yield)\n\u001b[1;32m     30\u001b[0m     \u001b[38;5;28;01mexcept\u001b[39;00m \u001b[38;5;167;01mValueError\u001b[39;00m \u001b[38;5;28;01mas\u001b[39;00m e:\n\u001b[0;32m---> 31\u001b[0m         \u001b[38;5;28;01mraise\u001b[39;00m \u001b[38;5;167;01mValueError\u001b[39;00m(\n\u001b[1;32m     32\u001b[0m             \u001b[38;5;124mf\u001b[39m\u001b[38;5;124m\"\u001b[39m\u001b[38;5;124mInvalid input \u001b[39m\u001b[38;5;124m'\u001b[39m\u001b[38;5;132;01m{\u001b[39;00mactual_yield\u001b[38;5;132;01m}\u001b[39;00m\u001b[38;5;124m'\u001b[39m\u001b[38;5;124m: `actual_yield`\u001b[39m\u001b[38;5;124m\"\u001b[39m\n\u001b[1;32m     33\u001b[0m             \u001b[38;5;124m\"\u001b[39m\u001b[38;5;124m should be passed as a float, or be convertible to a float.\u001b[39m\u001b[38;5;124m\"\u001b[39m\n\u001b[1;32m     34\u001b[0m             \u001b[38;5;124mf\u001b[39m\u001b[38;5;124m\"\u001b[39m\u001b[38;5;124m Original error: \u001b[39m\u001b[38;5;132;01m{\u001b[39;00me\u001b[38;5;132;01m}\u001b[39;00m\u001b[38;5;124m\"\u001b[39m\n\u001b[1;32m     35\u001b[0m         )\n\u001b[1;32m     37\u001b[0m \u001b[38;5;66;03m# Input value checks\u001b[39;00m\n\u001b[1;32m     38\u001b[0m \u001b[38;5;28;01mif\u001b[39;00m theoretical_yield \u001b[38;5;241m<\u001b[39m \u001b[38;5;241m0\u001b[39m \u001b[38;5;129;01mor\u001b[39;00m actual_yield \u001b[38;5;241m<\u001b[39m \u001b[38;5;241m0\u001b[39m:  \u001b[38;5;66;03m# yields should be non-negative\u001b[39;00m\n",
      "\u001b[0;31mValueError\u001b[0m: Invalid input 'hello': `actual_yield` should be passed as a float, or be convertible to a float. Original error: could not convert string to float: 'hello'"
     ]
    }
   ],
   "source": [
    "#Now we return to our reaction_yield function from before. \n",
    "#In this function, we want the user to pass the input arguments as floats.\n",
    "#However, in the case that they don't, we want to attempt to cast/convert the inputs to floats. \n",
    "#If this fails, we want to raise a meaningful error message telling them what's wrong.\n",
    "\n",
    "def reaction_yield(theoretical_yield: float, actual_yield: float) -> float:\n",
    "    \"\"\"\n",
    "    Calculates the percent yield of a reaction.\n",
    "\n",
    "    :param theoretical_yield: float, the theoretical yield of the reaction, in grams.\n",
    "    :param actual_yield: float, the actual yield obtained from the reaction, in grams.\n",
    "    \n",
    "    :return: float, the yield of the reaction as a percentage.\n",
    "    \"\"\"\n",
    "    # Type checks: input yields should be passed as floats. If not, attempt to convert\n",
    "    # them to a float. If this fails, raise an error.\n",
    "    if not isinstance(theoretical_yield, float):\n",
    "        try:  \n",
    "            theoretical_yield = float(theoretical_yield)\n",
    "        except ValueError as e:\n",
    "            raise ValueError(\n",
    "                f\"Invalid input '{theoretical_yield}': `theoretical_yield`\"\n",
    "                \" should be passed as a float, or be convertible to a float.\"\n",
    "                f\" Original error: {e}\"\n",
    "            )\n",
    "\n",
    "    if not isinstance(actual_yield, float):\n",
    "        try:\n",
    "            actual_yield = float(actual_yield)\n",
    "        except ValueError as e:\n",
    "            raise ValueError(\n",
    "                f\"Invalid input '{actual_yield}': `actual_yield`\"\n",
    "                \" should be passed as a float, or be convertible to a float.\"\n",
    "                f\" Original error: {e}\"\n",
    "            )\n",
    "\n",
    "    # Input value checks\n",
    "    if theoretical_yield < 0 or actual_yield < 0:  # yields should be non-negative\n",
    "        raise ValueError(\"Input yields must be a non-negative float\")\n",
    "\n",
    "    if actual_yield > theoretical_yield:  # actual yield can't be more than the theoretical\n",
    "        raise ValueError(\"Actual yield cannot be more than the theoretical yield\")\n",
    "\n",
    "    # Calculate the yield and return\n",
    "    percent_yield = (actual_yield / theoretical_yield) * 100\n",
    "\n",
    "    return percent_yield\n",
    "\n",
    "# Now if we run with strings that are convertible to floats, the function works!\n",
    "reaction_yield(\"80\", \"70\")\n",
    "\n",
    "# But if they are non-convertible, we get a nicer error message\n",
    "reaction_yield(4.0, \"hello\")"
   ]
  },
  {
   "cell_type": "code",
   "execution_count": null,
   "id": "4649b8c7-a775-4abe-8f62-fa9f8206e747",
   "metadata": {},
   "outputs": [],
   "source": [
    "\n"
   ]
  },
  {
   "cell_type": "code",
   "execution_count": 52,
   "id": "1e78e8dd-1bc7-463a-8058-1c3ff3b73952",
   "metadata": {},
   "outputs": [
    {
     "ename": "AssertionError",
     "evalue": "",
     "output_type": "error",
     "traceback": [
      "\u001b[0;31m---------------------------------------------------------------------------\u001b[0m",
      "\u001b[0;31mAssertionError\u001b[0m                            Traceback (most recent call last)",
      "Cell \u001b[0;32mIn[52], line 4\u001b[0m\n\u001b[1;32m      1\u001b[0m \u001b[38;5;66;03m########PART 4\u001b[39;00m\n\u001b[1;32m      2\u001b[0m \u001b[38;5;66;03m# Define the path object for the file and check that it exists\u001b[39;00m\n\u001b[1;32m      3\u001b[0m reaction_yield_file \u001b[38;5;241m=\u001b[39m current_directory \u001b[38;5;241m/\u001b[39m \u001b[38;5;124m\"\u001b[39m\u001b[38;5;124mreaction_yields_with_errors.txt\u001b[39m\u001b[38;5;124m\"\u001b[39m\n\u001b[0;32m----> 4\u001b[0m \u001b[38;5;28;01massert\u001b[39;00m reaction_yield_file\u001b[38;5;241m.\u001b[39mexists()\n\u001b[1;32m      6\u001b[0m \u001b[38;5;66;03m# Open the file\u001b[39;00m\n\u001b[1;32m      7\u001b[0m \u001b[38;5;28;01mwith\u001b[39;00m reaction_yield_file\u001b[38;5;241m.\u001b[39mopen(\u001b[38;5;124m\"\u001b[39m\u001b[38;5;124mr\u001b[39m\u001b[38;5;124m\"\u001b[39m) \u001b[38;5;28;01mas\u001b[39;00m file:  \u001b[38;5;66;03m# \"r\" is read-mode\u001b[39;00m\n\u001b[1;32m      8\u001b[0m \n\u001b[1;32m      9\u001b[0m     \u001b[38;5;66;03m# Read the file and convert to a list, where each element in the list is a str\u001b[39;00m\n\u001b[1;32m     10\u001b[0m     \u001b[38;5;66;03m# containing each line.\u001b[39;00m\n",
      "\u001b[0;31mAssertionError\u001b[0m: "
     ]
    }
   ],
   "source": [
    "########PART 4\n",
    "# Define the path object for the file and check that it exists\n",
    "reaction_yield_file = current_directory / \"reaction_yields_with_errors.txt\"\n",
    "assert reaction_yield_file.exists()\n",
    "\n",
    "# Open the file\n",
    "with reaction_yield_file.open(\"r\") as file:  # \"r\" is read-mode\n",
    "\n",
    "    # Read the file and convert to a list, where each element in the list is a str\n",
    "    # containing each line.\n",
    "    lines = file.read().splitlines()  \n",
    "\n",
    "    for line_i, line in enumerate(lines):\n",
    "        print(f\"Line number: {line_i}\")\n",
    "        print(f\"    Line read from file: {line}\")\n",
    "\n",
    "        if line.startswith(\"#\"):\n",
    "            print(\"    Comment line, not extracting data\\n\")\n",
    "        else:\n",
    "            print(\"    Data line, extracting data\")\n",
    "\n",
    "            # Extract the values on each row by further splitting the line\n",
    "            line_data = line.split()\n",
    "            print(f\"    Data on line: {line_data}\")\n",
    "\n",
    "            # Unpack the values in the list\n",
    "            assert len(line_data) == 3\n",
    "            name, theoretical, actual = line_data\n",
    "            print(f\"    Data types: {[type(d) for d in line_data]}\")\n",
    "\n",
    "            # Calculate the percent yield and print the results\n",
    "            percent_yield = reaction_yield(theoretical, actual)  # call our function!\n",
    "            print(f\"    Scientist: {name}, reaction yield (%): {percent_yield}\\n\")"
   ]
  },
  {
   "cell_type": "code",
   "execution_count": null,
   "id": "b2a0b1f7-e53f-4324-a67b-acd36eb30e73",
   "metadata": {},
   "outputs": [],
   "source": []
  },
  {
   "cell_type": "code",
   "execution_count": 60,
   "id": "3ef11a19-8ab0-46f0-8152-ea4ca2af48b1",
   "metadata": {},
   "outputs": [
    {
     "name": "stdout",
     "output_type": "stream",
     "text": [
      "24\n"
     ]
    }
   ],
   "source": [
    "####PART5\n",
    "caffeine_formula = {\"C\": 8, \"H\": 10, \"N\": 4, \"O\": 2}\n",
    "\n",
    "def get_number_of_atoms(chemical_formula_dict: dict) -> int:\n",
    "    \"\"\"\n",
    "    Calculates the total number of atoms from the dictionary representation of the\n",
    "    chemical formula.\n",
    "\n",
    "    For instance, caffeine is represented by: {\"C\": 8, \"H\": 10, \"N\": 4, \"O\": 2}\n",
    "\n",
    "    :param chemical_formula_dict: dict, where keys are the atomic symbols and values are\n",
    "        the number of atoms of that type.\n",
    "\n",
    "    :return: int, the total number of atoms in the chemical formula.\n",
    "    \"\"\"\n",
    "    total_number_of_atoms = 0\n",
    "    for count in chemical_formula_dict.values():\n",
    "        # Check the value of count\n",
    "        if not isinstance(count, int):\n",
    "            raise TypeError(\n",
    "                f\"Invalid type {type(count)}: atomic counts should be passed as integers.\"\n",
    "            )\n",
    "        if count < 0:\n",
    "            raise ValueError(\"Atomic counts should be non-negative integers.\")\n",
    "\n",
    "        # Accumulate the total number of atoms\n",
    "        total_number_of_atoms += count\n",
    "\n",
    "    return total_number_of_atoms\n",
    "\n",
    "print(get_number_of_atoms(caffeine_formula))  # Output should be 24\n",
    "\n",
    "###on a change le .item en .value"
   ]
  },
  {
   "cell_type": "code",
   "execution_count": 63,
   "id": "9c7f5c8e-f0fe-4d4d-8085-4d3f06fbbdd7",
   "metadata": {},
   "outputs": [
    {
     "name": "stdout",
     "output_type": "stream",
     "text": [
      "194.58599999999998\n"
     ]
    }
   ],
   "source": [
    "# TODO: complete the function\n",
    "caffeine_mass={\"C\":8, \"H\":10, \"N\":4, \"O\":2}\n",
    "def calculate_molecular_mass(chemical_formula_dict: dict) -> float:\n",
    "    # TODO: Don't forget to add a docstring!\n",
    "    \"\"\"\n",
    "    will calculate molecular mass of given molecule\n",
    "    return int, molecular mass (total)\"\"\"\n",
    "    \n",
    "    # Dictionary of {symbol: atomic mass} up to Argon\n",
    "    # TODO: fill in the atomic mass of Carbon!\n",
    "    atomic_masses = {\n",
    "        \"H\": 1.008,\n",
    "        \"He\": 4.002602,\n",
    "        \"Li\": 6.94,\n",
    "        \"Be\": 9.0121831,\n",
    "        \"B\": 10.81,\n",
    "        \"C\": 12.06,  # atomic mass of Carbon here\n",
    "        \"N\": 14.007,\n",
    "        \"O\": 15.999,\n",
    "        \"F\": 18.998403163,\n",
    "        \"Ne\": 20.1797,\n",
    "        \"Na\": 22.98976928,\n",
    "        \"Mg\": 24.305,\n",
    "        \"Al\": 26.9815385,\n",
    "        \"Si\": 28.085,\n",
    "        \"P\": 30.973761998,\n",
    "        \"S\": 32.06,\n",
    "        \"Cl\": 35.45,\n",
    "        \"Ar\": 39.948,\n",
    "    }\n",
    "    molecular_mass = 0.0\n",
    "    for symbol, count in chemical_formula_dict.items():\n",
    "        if symbol not in atomic_masses:\n",
    "            raise ValueError(f\"Unknown atomic symbol: {symbol}\")\n",
    "\n",
    "        atomic_mass = atomic_masses[symbol]\n",
    "        molecular_mass += atomic_mass * count\n",
    "\n",
    "    return molecular_mass\n",
    "\n",
    "# Test with caffeine formula\n",
    "caffeine_formula = {\"C\": 8, \"H\": 10, \"N\": 4, \"O\": 2}\n",
    "print(calculate_molecular_mass(caffeine_formula))  # Output should be approximately 194.19"
   ]
  },
  {
   "cell_type": "code",
   "execution_count": null,
   "id": "b1e4dcc4-9f03-4e71-966c-a74e5a539508",
   "metadata": {},
   "outputs": [],
   "source": []
  },
  {
   "cell_type": "code",
   "execution_count": 64,
   "id": "4ef12744-f8aa-4c72-a977-5aa86b58e072",
   "metadata": {},
   "outputs": [],
   "source": [
    "######CLASSES\n",
    "class Molecule:\n",
    "    \"\"\"\n",
    "    A class to represent some useful information about a molecule.\n",
    "    \"\"\"\n",
    "    def __init__(self, name: str, chemical_formula_dict: dict):\n",
    "        \"\"\"\n",
    "        Initializes a Molecule object with a name and a chemical formula.\n",
    "        \"\"\"\n",
    "        self.name = name\n",
    "        self.chemical_formula_dict = chemical_formula_dict\n",
    "        self.chemical_formula_str = self.chemical_formula_str()\n",
    "\n",
    "    def __repr__(self):\n",
    "        return f\"Molecule(name='{self.name}', formula={self.chemical_formula_str})\"\n",
    "\n",
    "    def chemical_formula_str(self) -> str:\n",
    "        \"\"\"\n",
    "        Returns a string representation of the chemical formula.\n",
    "        \"\"\"\n",
    "        formula_str = \"\"\n",
    "        for symbol, count in self.chemical_formula_dict.items():\n",
    "            formula_str += f\"{symbol}{count}\"\n",
    "        return formula_str\n",
    "\n",
    "caffeine_formula = {\"C\": 8, \"H\": 10, \"N\": 4, \"O\": 2}\n",
    "\n",
    "# \"Instantiate\" a Molecule object\n",
    "caffeine_molecule = Molecule(\"Caffeine\", caffeine_formula)"
   ]
  },
  {
   "cell_type": "code",
   "execution_count": 65,
   "id": "99aafcc3-a62c-4661-b71b-33ce4f5282ca",
   "metadata": {},
   "outputs": [
    {
     "name": "stdout",
     "output_type": "stream",
     "text": [
      "Molecule(name='Caffeine', formula=C8H10N4O2)\n"
     ]
    }
   ],
   "source": [
    "print(caffeine_molecule)"
   ]
  },
  {
   "cell_type": "code",
   "execution_count": 6,
   "id": "924eba82-1a3e-465d-ad63-e2e0cb36cd2f",
   "metadata": {},
   "outputs": [
    {
     "name": "stdout",
     "output_type": "stream",
     "text": [
      "Name: Caffeine\n",
      "Chemical formula: C8H10N4O2\n",
      "Number of atoms: 24\n",
      "Molecular mass: 194.194\n"
     ]
    }
   ],
   "source": [
    "class Molecule:\n",
    "    \"\"\"\n",
    "    A class to represent some useful information about a molecule.\n",
    "    \"\"\"\n",
    "    def __init__(self, name: str, chemical_formula_dict: dict):\n",
    "        \"\"\"\n",
    "        Initializes a Molecule object with a name and a chemical formula.\n",
    "        \"\"\"\n",
    "        self.name = name\n",
    "        self.chemical_formula_dict = chemical_formula_dict\n",
    "        self.chemical_formula_str = self.chemical_formula_str()\n",
    "        # TODO 3: call the class methods to set the following class attributes\n",
    "        self.number_of_atoms = self.get_number_of_atoms()\n",
    "        self.molecular_mass = self.calculate_molecular_mass()\n",
    "\n",
    "    def __repr__(self):\n",
    "        return f\"Molecule(name='{self.name}', formula={self.chemical_formula_str})\"\n",
    "\n",
    "    def chemical_formula_str(self) -> str:\n",
    "        \"\"\"\n",
    "        Returns a string representation of the chemical formula.\n",
    "        \"\"\"\n",
    "        formula_str = \"\"\n",
    "        for symbol, count in self.chemical_formula_dict.items():\n",
    "            formula_str += f\"{symbol}{count}\"\n",
    "        return formula_str\n",
    "\n",
    "    def get_number_of_atoms(self) -> int:\n",
    "        \"\"\"\n",
    "        Calculates the total number of atoms from the dictionary representation of the\n",
    "        chemical formula.\n",
    "\n",
    "        For instance, caffeine is represented by: {\"C\": 8, \"H\": 10, \"N\": 4, \"O\": 2}\n",
    "\n",
    "        :param chemical_formula_dict: dict, where keys are the atomic symbols and values\n",
    "            are the number of atoms of that type.\n",
    "\n",
    "        :return: int, the total number of atoms in the chemical formula.\n",
    "        \"\"\"\n",
    "        total_number_of_atoms = 0\n",
    "        for symbol, count in self.chemical_formula_dict.items():\n",
    "            # Check the keys and values of the input\n",
    "            if not isinstance(symbol, str):\n",
    "                raise TypeError(\n",
    "                    f\"Invalid type {type(symbol)}: atomic symbols should be passed as strings.\"\n",
    "                )\n",
    "            if not isinstance(count, int):\n",
    "                raise TypeError(\n",
    "                    f\"Invalid type {type(count)}: atomic counts should be passed as integers.\"\n",
    "                )\n",
    "            if count < 0:\n",
    "                raise ValueError(\"Atomic counts should be non-negative integers.\")\n",
    "\n",
    "            # Accumulate the total number of atoms\n",
    "            total_number_of_atoms += count\n",
    "\n",
    "        return total_number_of_atoms\n",
    "\n",
    "    def calculate_molecular_mass(self) -> float:\n",
    "        \"\"\"\n",
    "        Calculates the molecular mass of a chemical formula.\n",
    "        \"\"\"\n",
    "        # Dictionary of {symbol: atomic mass} up to Argon\n",
    "        atomic_masses = {\n",
    "            \"H\": 1.008,\n",
    "            \"He\": 4.002602,\n",
    "            \"Li\": 6.94,\n",
    "            \"Be\": 9.0121831,\n",
    "            \"B\": 10.81,\n",
    "            \"C\": 12.011,\n",
    "            \"N\": 14.007,\n",
    "            \"O\": 15.999,\n",
    "            \"F\": 18.998403163,\n",
    "            \"Ne\": 20.1797,\n",
    "            \"Na\": 22.98976928,\n",
    "            \"Mg\": 24.305,\n",
    "            \"Al\": 26.9815385,\n",
    "            \"Si\": 28.085,\n",
    "            \"P\": 30.973761998,\n",
    "            \"S\": 32.06,\n",
    "            \"Cl\": 35.45,\n",
    "            \"Ar\": 39.948,\n",
    "        }\n",
    "        molecular_mass = 0\n",
    "        for symbol, count in self.chemical_formula_dict.items():\n",
    "            if symbol not in atomic_masses:\n",
    "                raise ValueError(\n",
    "                    f\"Invalid atomic symbol: {symbol}. Currently can only\"\n",
    "                    \" calculate the molecular mass for molecules containing\"\n",
    "                    \" atoms up to Argon (Ar).\"\n",
    "                )\n",
    "            molecular_mass += atomic_masses[symbol] * count\n",
    "\n",
    "        return molecular_mass\n",
    "\n",
    "caffeine_molecule = Molecule(\"Caffeine\", {\"C\": 8, \"H\": 10, \"N\": 4, \"O\": 2})\n",
    "\n",
    "print(f\"Name: {caffeine_molecule.name}\")\n",
    "print(f\"Chemical formula: {caffeine_molecule.chemical_formula_str}\")\n",
    "print(f\"Number of atoms: {caffeine_molecule.number_of_atoms}\")\n",
    "print(f\"Molecular mass: {caffeine_molecule.molecular_mass}\")"
   ]
  },
  {
   "cell_type": "code",
   "execution_count": 8,
   "id": "6d219fc6-534a-40e6-be66-7d1027e964f1",
   "metadata": {},
   "outputs": [
    {
     "name": "stdout",
     "output_type": "stream",
     "text": [
      "Name: Caffeine\n",
      "Chemical formula: C8H10N4O2\n",
      "Number of atoms: 24\n",
      "Molecular mass: 194.194\n",
      "\n",
      "Name: Water\n",
      "Chemical formula: H2O1\n",
      "Number of atoms: 3\n",
      "Molecular mass: 18.015\n",
      "\n",
      "Name: Carbon Dioxide\n",
      "Chemical formula: C1O2\n",
      "Number of atoms: 3\n",
      "Molecular mass: 44.009\n",
      "\n",
      "Name: Glucose\n",
      "Chemical formula: C6H12O6\n",
      "Number of atoms: 24\n",
      "Molecular mass: 180.156\n",
      "\n",
      "Name: Ethanol\n",
      "Chemical formula: C2H6O1\n",
      "Number of atoms: 9\n",
      "Molecular mass: 46.069\n",
      "\n",
      "Name: Acetic Acid\n",
      "Chemical formula: C2H4O2\n",
      "Number of atoms: 8\n",
      "Molecular mass: 60.052\n",
      "\n",
      "Name: Ammonia\n",
      "Chemical formula: N1H3\n",
      "Number of atoms: 4\n",
      "Molecular mass: 17.031\n",
      "\n",
      "Name: Methane\n",
      "Chemical formula: C1H4\n",
      "Number of atoms: 5\n",
      "Molecular mass: 16.043\n",
      "\n",
      "Name: Hydrochloric Acid\n",
      "Chemical formula: H1Cl1\n",
      "Number of atoms: 2\n",
      "Molecular mass: 36.458000000000006\n",
      "\n",
      "Name: Nitrous Oxide\n",
      "Chemical formula: N2O1\n",
      "Number of atoms: 3\n",
      "Molecular mass: 44.013\n",
      "\n"
     ]
    }
   ],
   "source": [
    "# Defined below are the names and formulae of 10 common molecules. Within the body of the for loop write \n",
    "#code to generate a molecule object and append it to the list.\n",
    "\n",
    "molecule_names_and_formula = [\n",
    "    (\"Caffeine\", {\"C\": 8, \"H\": 10, \"N\": 4, \"O\": 2}),\n",
    "    (\"Water\", {\"H\": 2, \"O\": 1}),\n",
    "    (\"Carbon Dioxide\", {\"C\": 1, \"O\": 2}),\n",
    "    (\"Glucose\", {\"C\": 6, \"H\": 12, \"O\": 6}),\n",
    "    (\"Ethanol\", {\"C\": 2, \"H\": 6, \"O\": 1}),\n",
    "    (\"Acetic Acid\", {\"C\": 2, \"H\": 4, \"O\": 2}),\n",
    "    (\"Ammonia\", {\"N\": 1, \"H\": 3}),\n",
    "    (\"Methane\", {\"C\": 1, \"H\": 4}),\n",
    "    (\"Hydrochloric Acid\", {\"H\": 1, \"Cl\": 1}),\n",
    "    (\"Nitrous Oxide\", {\"N\": 2, \"O\": 1}),\n",
    "]\n",
    "\n",
    "molecules = []\n",
    "for (name, formula) in molecule_names_and_formula:\n",
    "    molecule_object = Molecule(name, formula)\n",
    "    molecules.append(molecule_object)\n",
    "    # And finally print the information for each molecule\n",
    "for molecule in molecules:\n",
    "    print(f\"Name: {molecule.name}\")\n",
    "    print(f\"Chemical formula: {molecule.chemical_formula_str}\")\n",
    "    print(f\"Number of atoms: {molecule.number_of_atoms}\")\n",
    "    print(f\"Molecular mass: {molecule.molecular_mass}\\n\")"
   ]
  },
  {
   "cell_type": "code",
   "execution_count": null,
   "id": "220bfd60-5ff3-43c8-b0f8-f12c00cfc669",
   "metadata": {},
   "outputs": [],
   "source": []
  }
 ],
 "metadata": {
  "kernelspec": {
   "display_name": "Python 3 (ipykernel)",
   "language": "python",
   "name": "python3"
  },
  "language_info": {
   "codemirror_mode": {
    "name": "ipython",
    "version": 3
   },
   "file_extension": ".py",
   "mimetype": "text/x-python",
   "name": "python",
   "nbconvert_exporter": "python",
   "pygments_lexer": "ipython3",
   "version": "3.10.13"
  }
 },
 "nbformat": 4,
 "nbformat_minor": 5
}
